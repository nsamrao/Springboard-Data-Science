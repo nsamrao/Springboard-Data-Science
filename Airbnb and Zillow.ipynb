{
 "cells": [
  {
   "cell_type": "markdown",
   "metadata": {},
   "source": [
    "---"
   ]
  },
  {
   "cell_type": "markdown",
   "metadata": {},
   "source": [
    "<h1><center> Insights into US Airbnb Listing Metrics using Zillow Home Value Index and Real Estate Data</center></h1>\n"
   ]
  },
  {
   "cell_type": "markdown",
   "metadata": {},
   "source": [
    "---\n",
    "### *An analysis of Airbnb listings in popular US travel destinations in conjuction with Zillow's residential real estate data to predict price, value, popularity of Airbnb listings given the housing climate of a US city.*\n",
    "---\n",
    "### This exploration will be conducted in four parts:\n",
    "**Part 1:**  *What are the Airbnb listing trends in the U.S. Market? *\n",
    "\n",
    "** Part 2:**  * The Zillow Home Value Index (ZHVI) And Airbnb Metrics, Listing Price *\n",
    "\n",
    "**Part 3:** *Given ZHVI and listing trends, develop model that can predict Price given these two sets of features.*"
   ]
  },
  {
   "cell_type": "markdown",
   "metadata": {},
   "source": [
    "Airbnb Data Source: http://insideairbnb.com/\n",
    "\n",
    "Zillow Data Source: http://www.zillow.com/research/data/"
   ]
  },
  {
   "cell_type": "code",
   "execution_count": 20,
   "metadata": {
    "collapsed": true
   },
   "outputs": [],
   "source": [
    "import matplotlib\n",
    "import numpy as np\n",
    "import matplotlib.pyplot as plt\n",
    "import seaborn as sns\n",
    "from pandas import *\n",
    "%matplotlib inline \n",
    "\n",
    "import warnings\n",
    "warnings.filterwarnings('ignore')\n",
    "\n",
    "cmap = sns.diverging_palette(220, 10, as_cmap=True)"
   ]
  },
  {
   "cell_type": "code",
   "execution_count": 5,
   "metadata": {
    "collapsed": true
   },
   "outputs": [],
   "source": [
    "def read_data(location):\n",
    "    location = location[['id', 'room_type', 'accommodates', 'bathrooms', 'bedrooms', 'price', 'minimum_nights',\n",
    "       'availability_365', 'number_of_reviews', 'review_scores_rating',\n",
    "       'review_scores_accuracy', 'review_scores_value']]\n",
    "    return location\n",
    "\n",
    "def get_stats(location):\n",
    "    x = ['accommodates', 'bathrooms', 'bedrooms', 'price', 'minimum_nights',\n",
    "       'availability_365', 'number_of_reviews', 'review_scores_rating',\n",
    "       'review_scores_accuracy', 'review_scores_value']\n",
    "    location = location.loc[:, x]\n",
    "    location_stats = location.describe()\n",
    "    location_stats = concat([location_stats.ix[0:4], location_stats.ix[7:]])\n",
    "    return location_stats\n",
    "\n",
    "def reorder(location):\n",
    "    new = location.set_index('location', append = True).unstack(0)\n",
    "    return new"
   ]
  },
  {
   "cell_type": "markdown",
   "metadata": {},
   "source": [
    "---\n",
    "# The Airbnb Data"
   ]
  },
  {
   "cell_type": "markdown",
   "metadata": {},
   "source": [
    "## a) Reading and Cleaning:"
   ]
  },
  {
   "cell_type": "code",
   "execution_count": 6,
   "metadata": {
    "collapsed": false
   },
   "outputs": [],
   "source": [
    "austin = read_csv('austin.csv')\n",
    "austin = read_data(austin)\n",
    "austin['price'] = austin['price'].map(lambda x: str(x)[1:]).convert_objects(convert_numeric=True)\n",
    "\n",
    "boston = read_csv('boston.csv')\n",
    "boston = read_data(boston)\n",
    "boston['price'] = boston['price'].map(lambda x: str(x)[1:]).convert_objects(convert_numeric=True)\n",
    "\n",
    "dc = read_csv('dc.csv')\n",
    "dc = read_data(dc)\n",
    "dc['price'] = dc['price'].map(lambda x: str(x)[1:]).convert_objects(convert_numeric=True)\n",
    "\n",
    "denver = read_csv('denver.csv')\n",
    "denver = read_data(denver)\n",
    "denver['price'] = denver['price'].map(lambda x: str(x)[1:]).convert_objects(convert_numeric=True)\n",
    "\n",
    "la = read_csv('la.csv')\n",
    "la = read_data(la)\n",
    "la['price'] = la['price'].map(lambda x: str(x)[1:]).convert_objects(convert_numeric=True)\n",
    "\n",
    "nashville = read_csv('nashville.csv')\n",
    "nashville = read_data(nashville)\n",
    "nashville['price'] = nashville['price'].map(lambda x: str(x)[1:]).convert_objects(convert_numeric=True)\n",
    "\n",
    "nyc = read_csv('nyc.csv')\n",
    "nyc = read_data(nyc)\n",
    "nyc['price'] = nyc['price'].map(lambda x: str(x)[1:]).convert_objects(convert_numeric=True)\n",
    "\n",
    "portland = read_csv('portland.csv')\n",
    "portland = read_data(portland)\n",
    "portland['price'] = portland['price'].map(lambda x: str(x)[1:]).convert_objects(convert_numeric=True)\n",
    "\n",
    "sandiego = read_csv('sandiego.csv')\n",
    "sandiego = read_data(sandiego)\n",
    "sandiego['price'] = sandiego['price'].map(lambda x: str(x)[1:]).convert_objects(convert_numeric=True)\n",
    "\n",
    "seattle = read_csv('seattle.csv')\n",
    "seattle = read_data(seattle)\n",
    "seattle['price'] = seattle['price'].map(lambda x: str(x)[1:]).convert_objects(convert_numeric=True)\n",
    "\n",
    "sf = read_csv('sf.csv')\n",
    "sf = read_data(sf)\n",
    "sf['price'] = sf['price'].map(lambda x: str(x)[1:]).convert_objects(convert_numeric=True)\n",
    "\n",
    "neworleans = read_csv('new_orleans.csv')\n",
    "neworleans = read_data(neworleans)\n",
    "neworleans['price'] = neworleans['price'].map(lambda x: str(x)[1:]).convert_objects(convert_numeric=True)"
   ]
  },
  {
   "cell_type": "markdown",
   "metadata": {},
   "source": [
    "A look into the Airbnb listing features provided for each city by the data:"
   ]
  },
  {
   "cell_type": "markdown",
   "metadata": {},
   "source": [
    "## b) Getting Statistics on Airbnb Data:\n",
    "\n",
    "Creating a dataframe to house statistical summaries of the listing data so that we can analyze listing trends."
   ]
  },
  {
   "cell_type": "code",
   "execution_count": 7,
   "metadata": {
    "collapsed": false
   },
   "outputs": [
    {
     "data": {
      "text/html": [
       "<div>\n",
       "<table border=\"1\" class=\"dataframe\">\n",
       "  <thead>\n",
       "    <tr>\n",
       "      <th></th>\n",
       "      <th colspan=\"5\" halign=\"left\">accommodates</th>\n",
       "      <th colspan=\"5\" halign=\"left\">bathrooms</th>\n",
       "      <th>...</th>\n",
       "      <th colspan=\"5\" halign=\"left\">review_scores_accuracy</th>\n",
       "      <th colspan=\"5\" halign=\"left\">review_scores_value</th>\n",
       "    </tr>\n",
       "    <tr>\n",
       "      <th></th>\n",
       "      <th>count</th>\n",
       "      <th>max</th>\n",
       "      <th>mean</th>\n",
       "      <th>min</th>\n",
       "      <th>std</th>\n",
       "      <th>count</th>\n",
       "      <th>max</th>\n",
       "      <th>mean</th>\n",
       "      <th>min</th>\n",
       "      <th>std</th>\n",
       "      <th>...</th>\n",
       "      <th>count</th>\n",
       "      <th>max</th>\n",
       "      <th>mean</th>\n",
       "      <th>min</th>\n",
       "      <th>std</th>\n",
       "      <th>count</th>\n",
       "      <th>max</th>\n",
       "      <th>mean</th>\n",
       "      <th>min</th>\n",
       "      <th>std</th>\n",
       "    </tr>\n",
       "    <tr>\n",
       "      <th>location</th>\n",
       "      <th></th>\n",
       "      <th></th>\n",
       "      <th></th>\n",
       "      <th></th>\n",
       "      <th></th>\n",
       "      <th></th>\n",
       "      <th></th>\n",
       "      <th></th>\n",
       "      <th></th>\n",
       "      <th></th>\n",
       "      <th></th>\n",
       "      <th></th>\n",
       "      <th></th>\n",
       "      <th></th>\n",
       "      <th></th>\n",
       "      <th></th>\n",
       "      <th></th>\n",
       "      <th></th>\n",
       "      <th></th>\n",
       "      <th></th>\n",
       "      <th></th>\n",
       "    </tr>\n",
       "  </thead>\n",
       "  <tbody>\n",
       "    <tr>\n",
       "      <th>Austin, TX</th>\n",
       "      <td>5835.0</td>\n",
       "      <td>16.0</td>\n",
       "      <td>4.388175</td>\n",
       "      <td>1.0</td>\n",
       "      <td>2.689056</td>\n",
       "      <td>5789.0</td>\n",
       "      <td>8.0</td>\n",
       "      <td>1.479617</td>\n",
       "      <td>0.0</td>\n",
       "      <td>0.774630</td>\n",
       "      <td>...</td>\n",
       "      <td>3776.0</td>\n",
       "      <td>10.0</td>\n",
       "      <td>9.645657</td>\n",
       "      <td>2.0</td>\n",
       "      <td>0.757809</td>\n",
       "      <td>3778.0</td>\n",
       "      <td>10.0</td>\n",
       "      <td>9.416093</td>\n",
       "      <td>2.0</td>\n",
       "      <td>0.892991</td>\n",
       "    </tr>\n",
       "    <tr>\n",
       "      <th>Boston, MA</th>\n",
       "      <td>3585.0</td>\n",
       "      <td>16.0</td>\n",
       "      <td>3.041283</td>\n",
       "      <td>1.0</td>\n",
       "      <td>1.778929</td>\n",
       "      <td>3571.0</td>\n",
       "      <td>6.0</td>\n",
       "      <td>1.221647</td>\n",
       "      <td>0.0</td>\n",
       "      <td>0.501487</td>\n",
       "      <td>...</td>\n",
       "      <td>2762.0</td>\n",
       "      <td>10.0</td>\n",
       "      <td>9.431571</td>\n",
       "      <td>2.0</td>\n",
       "      <td>0.931863</td>\n",
       "      <td>2764.0</td>\n",
       "      <td>10.0</td>\n",
       "      <td>9.168234</td>\n",
       "      <td>2.0</td>\n",
       "      <td>1.011116</td>\n",
       "    </tr>\n",
       "  </tbody>\n",
       "</table>\n",
       "<p>2 rows × 50 columns</p>\n",
       "</div>"
      ],
      "text/plain": [
       "           accommodates                                bathrooms       \\\n",
       "                  count   max      mean  min       std     count  max   \n",
       "location                                                                \n",
       "Austin, TX       5835.0  16.0  4.388175  1.0  2.689056    5789.0  8.0   \n",
       "Boston, MA       3585.0  16.0  3.041283  1.0  1.778929    3571.0  6.0   \n",
       "\n",
       "                                       ...    review_scores_accuracy        \\\n",
       "                mean  min       std    ...                     count   max   \n",
       "location                               ...                                   \n",
       "Austin, TX  1.479617  0.0  0.774630    ...                    3776.0  10.0   \n",
       "Boston, MA  1.221647  0.0  0.501487    ...                    2762.0  10.0   \n",
       "\n",
       "                                    review_scores_value                       \\\n",
       "                mean  min       std               count   max      mean  min   \n",
       "location                                                                       \n",
       "Austin, TX  9.645657  2.0  0.757809              3778.0  10.0  9.416093  2.0   \n",
       "Boston, MA  9.431571  2.0  0.931863              2764.0  10.0  9.168234  2.0   \n",
       "\n",
       "                      \n",
       "                 std  \n",
       "location              \n",
       "Austin, TX  0.892991  \n",
       "Boston, MA  1.011116  \n",
       "\n",
       "[2 rows x 50 columns]"
      ]
     },
     "execution_count": 7,
     "metadata": {},
     "output_type": "execute_result"
    }
   ],
   "source": [
    "austin_s = get_stats(austin)\n",
    "austin_s['location'] = 'Austin, TX'\n",
    "austin_s = reorder(austin_s)\n",
    "\n",
    "boston_s = get_stats(boston)\n",
    "boston_s['location'] = 'Boston, MA'\n",
    "boston_s = reorder(boston_s)\n",
    "\n",
    "dc_s = get_stats(dc)\n",
    "dc_s['location'] = 'Washington, DC'\n",
    "dc_s = reorder(dc_s)\n",
    "\n",
    "denver_s = get_stats(denver)\n",
    "denver_s['location'] = 'Denver, CO'\n",
    "denver_s = reorder(denver_s)\n",
    "\n",
    "la_s = get_stats(la)\n",
    "la_s['location'] = 'Los Angeles-Long Beach-Anaheim, CA'\n",
    "la_s = reorder(la_s)\n",
    "\n",
    "nashville_s = get_stats(nashville)\n",
    "nashville_s['location'] = 'Nashville, TN'\n",
    "nashville_s = reorder(nashville_s)\n",
    "\n",
    "nyc_s = get_stats(nyc)\n",
    "nyc_s['location'] = 'New York, NY'\n",
    "nyc_s = reorder(nyc_s)\n",
    "\n",
    "portland_s = get_stats(portland)\n",
    "portland_s['location'] = 'Portland, OR'\n",
    "portland_s = reorder(portland_s)\n",
    "\n",
    "sandiego_s = get_stats(sandiego)\n",
    "sandiego_s['location'] = 'San Diego, CA'\n",
    "sandiego_s = reorder(sandiego_s)\n",
    "\n",
    "seattle_s = get_stats(seattle)\n",
    "seattle_s['location'] = 'Seattle, WA'\n",
    "seattle_s = reorder(seattle_s)\n",
    "\n",
    "sf_s = get_stats(sf)\n",
    "sf_s['location'] = 'San Francisco, CA'\n",
    "sf_s = reorder(sf_s)\n",
    "\n",
    "neworleans_s = get_stats(neworleans)\n",
    "neworleans_s['location'] = 'New Orleans, LA'\n",
    "neworleans_s = reorder(neworleans_s)\n",
    "\n",
    "statistics = concat([austin_s, boston_s, dc_s, denver_s, la_s, nashville_s, nyc_s, portland_s, sandiego_s, seattle_s, sf_s, neworleans_s])\n",
    "statistics.head(2)"
   ]
  },
  {
   "cell_type": "markdown",
   "metadata": {},
   "source": [
    "Columns included in statistical summary:"
   ]
  },
  {
   "cell_type": "code",
   "execution_count": 59,
   "metadata": {
    "collapsed": false
   },
   "outputs": [
    {
     "data": {
      "text/plain": [
       "array([('accommodates', 'count'), ('accommodates', 'max'),\n",
       "       ('accommodates', 'mean'), ('accommodates', 'min'),\n",
       "       ('accommodates', 'std'), ('bathrooms', 'count'),\n",
       "       ('bathrooms', 'max'), ('bathrooms', 'mean'), ('bathrooms', 'min'),\n",
       "       ('bathrooms', 'std'), ('bedrooms', 'count'), ('bedrooms', 'max'),\n",
       "       ('bedrooms', 'mean'), ('bedrooms', 'min'), ('bedrooms', 'std'),\n",
       "       ('price', 'count'), ('price', 'max'), ('price', 'mean'),\n",
       "       ('price', 'min'), ('price', 'std'), ('minimum_nights', 'count'),\n",
       "       ('minimum_nights', 'max'), ('minimum_nights', 'mean'),\n",
       "       ('minimum_nights', 'min'), ('minimum_nights', 'std'),\n",
       "       ('availability_365', 'count'), ('availability_365', 'max'),\n",
       "       ('availability_365', 'mean'), ('availability_365', 'min'),\n",
       "       ('availability_365', 'std'), ('number_of_reviews', 'count'),\n",
       "       ('number_of_reviews', 'max'), ('number_of_reviews', 'mean'),\n",
       "       ('number_of_reviews', 'min'), ('number_of_reviews', 'std'),\n",
       "       ('review_scores_rating', 'count'), ('review_scores_rating', 'max'),\n",
       "       ('review_scores_rating', 'mean'), ('review_scores_rating', 'min'),\n",
       "       ('review_scores_rating', 'std'),\n",
       "       ('review_scores_accuracy', 'count'),\n",
       "       ('review_scores_accuracy', 'max'),\n",
       "       ('review_scores_accuracy', 'mean'),\n",
       "       ('review_scores_accuracy', 'min'),\n",
       "       ('review_scores_accuracy', 'std'), ('review_scores_value', 'count'),\n",
       "       ('review_scores_value', 'max'), ('review_scores_value', 'mean'),\n",
       "       ('review_scores_value', 'min'), ('review_scores_value', 'std')], dtype=object)"
      ]
     },
     "execution_count": 59,
     "metadata": {},
     "output_type": "execute_result"
    }
   ],
   "source": [
    "statistics.columns.values"
   ]
  },
  {
   "cell_type": "markdown",
   "metadata": {},
   "source": [
    "---"
   ]
  },
  {
   "cell_type": "markdown",
   "metadata": {},
   "source": [
    "# Part 1: Exploring Airbnb Data -- Listing Trends in U.S. Cities\n",
    "Looking at descriptive statistics in each city to explore listing trends."
   ]
  },
  {
   "cell_type": "markdown",
   "metadata": {},
   "source": [
    "### Count of Listings per City: Which cities have the most listings?\n",
    "\n",
    "New York and Los Angeles are outliers with a relatively far larger amount of listings than the others. This high supply of listings suggests that they are the more popular travel destinations. San Francsico comes in third and San Diego fourth. \n",
    "\n",
    "As expected, smaller and less frequented cities Portland, Nashville and Denver have the least amount of listings."
   ]
  },
  {
   "cell_type": "code",
   "execution_count": 17,
   "metadata": {
    "collapsed": false
   },
   "outputs": [
    {
     "data": {
      "text/plain": [
       "New York         39553\n",
       "Los Angeles      26080\n",
       "San Francisco     8619\n",
       "San Diego         6608\n",
       "Austin            5835\n",
       "New Orleans       4514\n",
       "Seattle           3818\n",
       "Washington        3723\n",
       "Boston            3585\n",
       "Portland          3360\n",
       "Nashville         3277\n",
       "Denver            2505\n",
       "Name: 0, dtype: int64"
      ]
     },
     "execution_count": 17,
     "metadata": {},
     "output_type": "execute_result"
    }
   ],
   "source": [
    "x = {'Austin': len(austin), 'Boston' : len(boston), \n",
    "     'Washington' : len(dc), 'Denver' : len(denver), \n",
    "     'Los Angeles': len(la), 'Nashville': len(nashville), \n",
    "     'New York': len(nyc), 'Portland' : len(portland), \n",
    "     'San Diego' : len(sandiego), 'Seattle' : len(seattle), \n",
    "     'San Francisco' : len(sf), 'New Orleans' : len(neworleans) }\n",
    "\n",
    "df = DataFrame(x, index=[0]).stack()\n",
    "df = DataFrame(df).sort([0], ascending=[False]).reset_index(0)\n",
    "df[0]"
   ]
  },
  {
   "cell_type": "code",
   "execution_count": 19,
   "metadata": {
    "collapsed": false
   },
   "outputs": [
    {
     "data": {
      "text/plain": [
       "<matplotlib.axes._subplots.AxesSubplot at 0x117733e10>"
      ]
     },
     "execution_count": 19,
     "metadata": {},
     "output_type": "execute_result"
    },
    {
     "data": {
      "image/png": "[encoded data removed]",
      "text/plain": [
       "<matplotlib.figure.Figure at 0x117717550>"
      ]
     },
     "metadata": {},
     "output_type": "display_data"
    }
   ],
   "source": [
    "df[0].plot(kind = 'bar', cmap = cmap)"
   ]
  },
  {
   "cell_type": "markdown",
   "metadata": {},
   "source": [
    "### Average Price per City: Where is it the most and least expensive to stay, on average, at an Airbnb listing?\n",
    "\n",
    "Austin, San Francisco and Nashville have the most expensive listing prices on average, while Denver, Seattle and  Portland are the cheaper places to stay, on average. \n",
    "\n",
    "A high price might suggest that the supply of listings is low and therefore hosts are not competitive when it comes to price. The two citites with the highest number fo listings, New York adn Los Angeles have prices that fall at the lower end of the distribution, which may suggest that a higher number of listings makes the market more competitive and drives prices down. "
   ]
  },
  {
   "cell_type": "code",
   "execution_count": 62,
   "metadata": {
    "collapsed": false
   },
   "outputs": [
    {
     "data": {
      "text/html": [
       "<div>\n",
       "<table border=\"1\" class=\"dataframe\">\n",
       "  <thead>\n",
       "    <tr style=\"text-align: right;\">\n",
       "      <th></th>\n",
       "      <th>mean</th>\n",
       "    </tr>\n",
       "    <tr>\n",
       "      <th>location</th>\n",
       "      <th></th>\n",
       "    </tr>\n",
       "  </thead>\n",
       "  <tbody>\n",
       "    <tr>\n",
       "      <th>Austin, TX</th>\n",
       "      <td>231.503207</td>\n",
       "    </tr>\n",
       "    <tr>\n",
       "      <th>San Francisco, CA</th>\n",
       "      <td>208.376430</td>\n",
       "    </tr>\n",
       "    <tr>\n",
       "      <th>Nashville, TN</th>\n",
       "      <td>188.836252</td>\n",
       "    </tr>\n",
       "    <tr>\n",
       "      <th>San Diego, CA</th>\n",
       "      <td>183.789750</td>\n",
       "    </tr>\n",
       "    <tr>\n",
       "      <th>New Orleans, LA</th>\n",
       "      <td>172.031998</td>\n",
       "    </tr>\n",
       "    <tr>\n",
       "      <th>Boston, MA</th>\n",
       "      <td>169.072768</td>\n",
       "    </tr>\n",
       "    <tr>\n",
       "      <th>Los Angeles-Long Beach-Anaheim, CA</th>\n",
       "      <td>146.567610</td>\n",
       "    </tr>\n",
       "    <tr>\n",
       "      <th>Washington, DC</th>\n",
       "      <td>142.323251</td>\n",
       "    </tr>\n",
       "    <tr>\n",
       "      <th>New York, NY</th>\n",
       "      <td>140.057827</td>\n",
       "    </tr>\n",
       "    <tr>\n",
       "      <th>Denver, CO</th>\n",
       "      <td>128.392957</td>\n",
       "    </tr>\n",
       "    <tr>\n",
       "      <th>Seattle, WA</th>\n",
       "      <td>127.747708</td>\n",
       "    </tr>\n",
       "    <tr>\n",
       "      <th>Portland, OR</th>\n",
       "      <td>110.508041</td>\n",
       "    </tr>\n",
       "  </tbody>\n",
       "</table>\n",
       "</div>"
      ],
      "text/plain": [
       "                                          mean\n",
       "location                                      \n",
       "Austin, TX                          231.503207\n",
       "San Francisco, CA                   208.376430\n",
       "Nashville, TN                       188.836252\n",
       "San Diego, CA                       183.789750\n",
       "New Orleans, LA                     172.031998\n",
       "Boston, MA                          169.072768\n",
       "Los Angeles-Long Beach-Anaheim, CA  146.567610\n",
       "Washington, DC                      142.323251\n",
       "New York, NY                        140.057827\n",
       "Denver, CO                          128.392957\n",
       "Seattle, WA                         127.747708\n",
       "Portland, OR                        110.508041"
      ]
     },
     "execution_count": 62,
     "metadata": {},
     "output_type": "execute_result"
    }
   ],
   "source": [
    "DataFrame(statistics['price']['mean'].convert_objects(convert_numeric=True)).sort(['mean'], ascending=[False])"
   ]
  },
  {
   "cell_type": "markdown",
   "metadata": {},
   "source": [
    "### Average Availability of Listings: What cities are more popular to visit?\n",
    "\n",
    "The first metric measured here is the average number of available days that can be booked in the next year. The lower the availibility the more popular a city is. The most popular travel destinations for users are San Francisco, New York, Boston. These are large cities so the data makes sense.\n",
    "\n",
    "Interestingly, Portland and Denver come in as the fourth and fifth most popular. These citites' listings are characterized by a low number of listings and low price. Users may be drawn to these cities due to thier low prices.\n",
    "\n",
    "The second dataframe is another metric that can be used to determine the popularity of listings in a particular city, mean # of reviews per city. The more that a city is reviewed on average, the more the listing is booked on average. There are similarities in order of the cites in the two lists. \n",
    "\n",
    "Interestingly, Seattle jumps from the bottom of the list on availability and towards the top on # of reviews. So although Seattle isn't a popular place for travelers relative to the other cities included in the data set, it is well reviewed. This may be an indication of the superior value of Seattle airbnb listings. "
   ]
  },
  {
   "cell_type": "code",
   "execution_count": 65,
   "metadata": {
    "collapsed": false
   },
   "outputs": [
    {
     "data": {
      "text/html": [
       "<div>\n",
       "<table border=\"1\" class=\"dataframe\">\n",
       "  <thead>\n",
       "    <tr style=\"text-align: right;\">\n",
       "      <th></th>\n",
       "      <th>mean</th>\n",
       "    </tr>\n",
       "    <tr>\n",
       "      <th>location</th>\n",
       "      <th></th>\n",
       "    </tr>\n",
       "  </thead>\n",
       "  <tbody>\n",
       "    <tr>\n",
       "      <th>San Francisco, CA</th>\n",
       "      <td>39.314957</td>\n",
       "    </tr>\n",
       "    <tr>\n",
       "      <th>New York, NY</th>\n",
       "      <td>43.143450</td>\n",
       "    </tr>\n",
       "    <tr>\n",
       "      <th>Boston, MA</th>\n",
       "      <td>49.136012</td>\n",
       "    </tr>\n",
       "    <tr>\n",
       "      <th>Portland, OR</th>\n",
       "      <td>53.292808</td>\n",
       "    </tr>\n",
       "    <tr>\n",
       "      <th>Denver, CO</th>\n",
       "      <td>53.427939</td>\n",
       "    </tr>\n",
       "    <tr>\n",
       "      <th>San Diego, CA</th>\n",
       "      <td>55.336164</td>\n",
       "    </tr>\n",
       "    <tr>\n",
       "      <th>New Orleans, LA</th>\n",
       "      <td>58.427176</td>\n",
       "    </tr>\n",
       "    <tr>\n",
       "      <th>Nashville, TN</th>\n",
       "      <td>60.055346</td>\n",
       "    </tr>\n",
       "    <tr>\n",
       "      <th>Los Angeles-Long Beach-Anaheim, CA</th>\n",
       "      <td>60.937369</td>\n",
       "    </tr>\n",
       "    <tr>\n",
       "      <th>Washington, DC</th>\n",
       "      <td>64.575997</td>\n",
       "    </tr>\n",
       "    <tr>\n",
       "      <th>Seattle, WA</th>\n",
       "      <td>67.061002</td>\n",
       "    </tr>\n",
       "    <tr>\n",
       "      <th>Austin, TX</th>\n",
       "      <td>73.900999</td>\n",
       "    </tr>\n",
       "  </tbody>\n",
       "</table>\n",
       "</div>"
      ],
      "text/plain": [
       "                                         mean\n",
       "location                                     \n",
       "San Francisco, CA                   39.314957\n",
       "New York, NY                        43.143450\n",
       "Boston, MA                          49.136012\n",
       "Portland, OR                        53.292808\n",
       "Denver, CO                          53.427939\n",
       "San Diego, CA                       55.336164\n",
       "New Orleans, LA                     58.427176\n",
       "Nashville, TN                       60.055346\n",
       "Los Angeles-Long Beach-Anaheim, CA  60.937369\n",
       "Washington, DC                      64.575997\n",
       "Seattle, WA                         67.061002\n",
       "Austin, TX                          73.900999"
      ]
     },
     "execution_count": 65,
     "metadata": {},
     "output_type": "execute_result"
    }
   ],
   "source": [
    "x = ((statistics['availability_365']['mean'] / 365)*100).convert_objects(convert_numeric=True)\n",
    "DataFrame(x).sort(['mean'], ascending=[True])"
   ]
  },
  {
   "cell_type": "code",
   "execution_count": 63,
   "metadata": {
    "collapsed": false
   },
   "outputs": [
    {
     "data": {
      "text/html": [
       "<div>\n",
       "<table border=\"1\" class=\"dataframe\">\n",
       "  <thead>\n",
       "    <tr style=\"text-align: right;\">\n",
       "      <th></th>\n",
       "      <th>mean</th>\n",
       "    </tr>\n",
       "    <tr>\n",
       "      <th>location</th>\n",
       "      <th></th>\n",
       "    </tr>\n",
       "  </thead>\n",
       "  <tbody>\n",
       "    <tr>\n",
       "      <th>Portland, OR</th>\n",
       "      <td>32.643750</td>\n",
       "    </tr>\n",
       "    <tr>\n",
       "      <th>Nashville, TN</th>\n",
       "      <td>25.443699</td>\n",
       "    </tr>\n",
       "    <tr>\n",
       "      <th>New Orleans, LA</th>\n",
       "      <td>24.719539</td>\n",
       "    </tr>\n",
       "    <tr>\n",
       "      <th>Seattle, WA</th>\n",
       "      <td>22.223415</td>\n",
       "    </tr>\n",
       "    <tr>\n",
       "      <th>San Francisco, CA</th>\n",
       "      <td>19.693352</td>\n",
       "    </tr>\n",
       "    <tr>\n",
       "      <th>Boston, MA</th>\n",
       "      <td>19.044630</td>\n",
       "    </tr>\n",
       "    <tr>\n",
       "      <th>Denver, CO</th>\n",
       "      <td>18.544511</td>\n",
       "    </tr>\n",
       "    <tr>\n",
       "      <th>Los Angeles-Long Beach-Anaheim, CA</th>\n",
       "      <td>16.848735</td>\n",
       "    </tr>\n",
       "    <tr>\n",
       "      <th>Washington, DC</th>\n",
       "      <td>15.306742</td>\n",
       "    </tr>\n",
       "    <tr>\n",
       "      <th>New York, NY</th>\n",
       "      <td>14.531742</td>\n",
       "    </tr>\n",
       "    <tr>\n",
       "      <th>San Diego, CA</th>\n",
       "      <td>14.052663</td>\n",
       "    </tr>\n",
       "    <tr>\n",
       "      <th>Austin, TX</th>\n",
       "      <td>10.794687</td>\n",
       "    </tr>\n",
       "  </tbody>\n",
       "</table>\n",
       "</div>"
      ],
      "text/plain": [
       "                                         mean\n",
       "location                                     \n",
       "Portland, OR                        32.643750\n",
       "Nashville, TN                       25.443699\n",
       "New Orleans, LA                     24.719539\n",
       "Seattle, WA                         22.223415\n",
       "San Francisco, CA                   19.693352\n",
       "Boston, MA                          19.044630\n",
       "Denver, CO                          18.544511\n",
       "Los Angeles-Long Beach-Anaheim, CA  16.848735\n",
       "Washington, DC                      15.306742\n",
       "New York, NY                        14.531742\n",
       "San Diego, CA                       14.052663\n",
       "Austin, TX                          10.794687"
      ]
     },
     "execution_count": 63,
     "metadata": {},
     "output_type": "execute_result"
    }
   ],
   "source": [
    "DataFrame(statistics['number_of_reviews']['mean'].convert_objects(convert_numeric=True)).sort(['mean'], ascending=[False])"
   ]
  },
  {
   "cell_type": "markdown",
   "metadata": {},
   "source": [
    "### Price and Availibility Listings: What the relationship between the popularity of a listing and its price?\n",
    "There seems to a positive coorelation beetween the price and percent availibility of a listing. \n",
    "\n",
    "This means that the more/less popular a listing(lower/higher the % Availabiliy) the lower/higher the price. This seems to be in line with the logic that cities which are popular to travel to must be more competive on price, which drives them down. \n",
    "\n",
    "Some outliers are San Francisco which is popular, but still more expensive and Austin which is expensive as well but ont he lower end of the popularity spectrum. "
   ]
  },
  {
   "cell_type": "code",
   "execution_count": 27,
   "metadata": {
    "collapsed": false
   },
   "outputs": [
    {
     "data": {
      "text/plain": [
       "<matplotlib.text.Text at 0x125ff7c10>"
      ]
     },
     "execution_count": 27,
     "metadata": {},
     "output_type": "execute_result"
    },
    {
     "data": {
      "image/png": "[encoded data removed]",
      "text/plain": [
       "<matplotlib.figure.Figure at 0x1254a7290>"
      ]
     },
     "metadata": {},
     "output_type": "display_data"
    }
   ],
   "source": [
    "x = ((statistics['availability_365']['mean'] / 365)*100).convert_objects(convert_numeric=True)\n",
    "y = statistics['price']['mean'].convert_objects(convert_numeric=True)\n",
    "\n",
    "n = (x.reset_index()).location.tolist()\n",
    "\n",
    "fig, ax = plt.subplots()\n",
    "ax.scatter(x, y, c=y,cmap = cmap , s =200)\n",
    "\n",
    "for i, txt in enumerate(n):\n",
    "    ax.annotate(txt, (x[i],y[i]), fontsize = 10)\n",
    "    \n",
    "    \n",
    "plt.xlabel('% Availability out of last 365 days', fontsize=14)\n",
    "plt.ylabel('Price', fontsize=14)\n",
    "plt.title('Price and % Availability', fontsize=14, fontweight='bold')"
   ]
  },
  {
   "cell_type": "markdown",
   "metadata": {},
   "source": [
    "### Price and Average Rating: How does the average quality of a listing coorelate to the average price?\n",
    "The data here is very dispersed and suggests that ratings and price do not have a clear relationship. \n",
    "\n",
    "This reveals an interesting quality of Airbnb listings relative to the traditional hotel industry. Even if a user pays more or less for a listing this does not have much to do with the quality of thier stay. In the traditional hotel industry the quality of your stay is very driven by the price (hotel vs. motel). Usually the more one pays the better your stay, whereas Airbnb users can pay minimally and have a great experience (Portland) or the other way around (Boston for example, has a low rating for its average price)."
   ]
  },
  {
   "cell_type": "code",
   "execution_count": 9,
   "metadata": {
    "collapsed": false
   },
   "outputs": [
    {
     "data": {
      "text/plain": [
       "<matplotlib.text.Text at 0x117166c50>"
      ]
     },
     "execution_count": 9,
     "metadata": {},
     "output_type": "execute_result"
    },
    {
     "data": {
      "image/png": "[encoded data removed]",
      "text/plain": [
       "<matplotlib.figure.Figure at 0x103bd3990>"
      ]
     },
     "metadata": {},
     "output_type": "display_data"
    }
   ],
   "source": [
    "x = statistics['review_scores_rating']['mean'].convert_objects(convert_numeric=True)\n",
    "y = statistics['price']['mean'].convert_objects(convert_numeric=True)\n",
    "\n",
    "n = (x.reset_index()).location.tolist()\n",
    "\n",
    "fig, ax = plt.subplots()\n",
    "ax.scatter(x, y, c=y,cmap = cmap, s =200)\n",
    "\n",
    "for i, txt in enumerate(n):\n",
    "    ax.annotate(txt, (x[i],y[i]), fontsize = 10)\n",
    "    \n",
    "    \n",
    "plt.xlabel('Average Rating', fontsize=14)\n",
    "plt.ylabel('Price', fontsize=14)\n",
    "plt.title('Price and Average Rating', fontsize=14, fontweight='bold')"
   ]
  },
  {
   "cell_type": "code",
   "execution_count": 63,
   "metadata": {
    "collapsed": false
   },
   "outputs": [
    {
     "data": {
      "text/html": [
       "<div>\n",
       "<table border=\"1\" class=\"dataframe\">\n",
       "  <thead>\n",
       "    <tr style=\"text-align: right;\">\n",
       "      <th></th>\n",
       "      <th>mean</th>\n",
       "    </tr>\n",
       "    <tr>\n",
       "      <th>location</th>\n",
       "      <th></th>\n",
       "    </tr>\n",
       "  </thead>\n",
       "  <tbody>\n",
       "    <tr>\n",
       "      <th>Portland, OR</th>\n",
       "      <td>32.643750</td>\n",
       "    </tr>\n",
       "    <tr>\n",
       "      <th>Nashville, TN</th>\n",
       "      <td>25.443699</td>\n",
       "    </tr>\n",
       "    <tr>\n",
       "      <th>New Orleans, LA</th>\n",
       "      <td>24.719539</td>\n",
       "    </tr>\n",
       "    <tr>\n",
       "      <th>Seattle, WA</th>\n",
       "      <td>22.223415</td>\n",
       "    </tr>\n",
       "    <tr>\n",
       "      <th>San Francisco, CA</th>\n",
       "      <td>19.693352</td>\n",
       "    </tr>\n",
       "    <tr>\n",
       "      <th>Boston, MA</th>\n",
       "      <td>19.044630</td>\n",
       "    </tr>\n",
       "    <tr>\n",
       "      <th>Denver, CO</th>\n",
       "      <td>18.544511</td>\n",
       "    </tr>\n",
       "    <tr>\n",
       "      <th>Los Angeles-Long Beach-Anaheim, CA</th>\n",
       "      <td>16.848735</td>\n",
       "    </tr>\n",
       "    <tr>\n",
       "      <th>Washington, DC</th>\n",
       "      <td>15.306742</td>\n",
       "    </tr>\n",
       "    <tr>\n",
       "      <th>New York, NY</th>\n",
       "      <td>14.531742</td>\n",
       "    </tr>\n",
       "    <tr>\n",
       "      <th>San Diego, CA</th>\n",
       "      <td>14.052663</td>\n",
       "    </tr>\n",
       "    <tr>\n",
       "      <th>Austin, TX</th>\n",
       "      <td>10.794687</td>\n",
       "    </tr>\n",
       "  </tbody>\n",
       "</table>\n",
       "</div>"
      ],
      "text/plain": [
       "                                         mean\n",
       "location                                     \n",
       "Portland, OR                        32.643750\n",
       "Nashville, TN                       25.443699\n",
       "New Orleans, LA                     24.719539\n",
       "Seattle, WA                         22.223415\n",
       "San Francisco, CA                   19.693352\n",
       "Boston, MA                          19.044630\n",
       "Denver, CO                          18.544511\n",
       "Los Angeles-Long Beach-Anaheim, CA  16.848735\n",
       "Washington, DC                      15.306742\n",
       "New York, NY                        14.531742\n",
       "San Diego, CA                       14.052663\n",
       "Austin, TX                          10.794687"
      ]
     },
     "execution_count": 63,
     "metadata": {},
     "output_type": "execute_result"
    }
   ],
   "source": [
    "DataFrame(statistics['number_of_reviews']['mean'].convert_objects(convert_numeric=True)).sort(['mean'], ascending=[False])"
   ]
  },
  {
   "cell_type": "markdown",
   "metadata": {},
   "source": [
    "### Coorelation Matrix for Airbnb Listing Data: Which Airbnb metrics are related to each other and how?"
   ]
  },
  {
   "cell_type": "code",
   "execution_count": 28,
   "metadata": {
    "collapsed": false
   },
   "outputs": [
    {
     "data": {
      "text/plain": [
       "<matplotlib.axes._subplots.AxesSubplot at 0x123c70c10>"
      ]
     },
     "execution_count": 28,
     "metadata": {},
     "output_type": "execute_result"
    },
    {
     "data": {
      "image/png": "[encoded data removed]",
      "text/plain": [
       "<matplotlib.figure.Figure at 0x125feb150>"
      ]
     },
     "metadata": {},
     "output_type": "display_data"
    }
   ],
   "source": [
    "df1 = statistics.iloc[:,[2,7,12,17,22,27,32,37,42,47]].reset_index().drop('location',axis = 1).fillna(0)\n",
    "df1.columns = df1.columns.droplevel(1)\n",
    "df1.columns = ['acc', 'bt', 'bd', 'pr', 'min', '365', '#rev', 'rat', \"acc\", \"val\"]\n",
    "#df_zillow = df_zillow['ZHVI_10Year']\n",
    "#df1 = concat([df1, df_zillow], axis = 1).fillna(0)\n",
    "\n",
    "coor= df1.corr()\n",
    "\n",
    "# Generate a mask for the upper triangle\n",
    "mask = np.zeros_like(df1.corr(), dtype=np.bool)\n",
    "mask[np.triu_indices_from(mask)] = True\n",
    "\n",
    "# Set up the matplotlib figure\n",
    "f, ax = plt.subplots(figsize=(11, 9))\n",
    "\n",
    "# Generate a custom diverging colormap\n",
    "cmap = sns.diverging_palette(220, 10, as_cmap=True)\n",
    "\n",
    "# Draw the heatmap with the mask and correct aspect ratio\n",
    "sns.heatmap(df1.corr(), mask=mask, cmap=cmap, vmax=.3,\n",
    "            square=True, xticklabels=2, yticklabels=5,\n",
    "            linewidths=.5, cbar_kws={\"shrink\": .5}, ax=ax)"
   ]
  },
  {
   "cell_type": "markdown",
   "metadata": {},
   "source": [
    "---"
   ]
  },
  {
   "cell_type": "markdown",
   "metadata": {},
   "source": [
    "# The Zillow Real Estate Data"
   ]
  },
  {
   "cell_type": "markdown",
   "metadata": {},
   "source": [
    "\n",
    "### What is the Zillow Home Value Index?\n",
    "#### From, Methodology for determining the ZHVI: http://www.zillow.com/research/zhvi-methodology-6032/\n",
    "\n",
    "The ideal home price index would be based off sale prices for the same set of homes in each time period so there was never an issue of the sales mix being different across periods. This approach of using a constant basket of goods is widely used, common examples being a commodity price index and a consumer price index. Unfortunately, unlike commodities and consumer goods, for which we can observe prices in all time periods, we can’t observe prices on the same set of homes in all time periods because not all homes are sold in every time period.\n",
    "\n",
    "The innovation that Zillow developed is a way of approximating this ideal home price index by leveraging the valuations Zillow creates on all homes (called Zestimates). Instead of actual sale prices on every home, the index is created from estimated sale prices on every home. Because of this fact, the distribution of actual sale prices for homes sold in a given time period looks very similar to the distribution of estimated sale prices for this same set of homes. But, importantly, Zillow has estimated sale prices not just for the homes that sold, but for all homes even if they didn’t sell in that time period. \n",
    "\n",
    "**Using this methodology, we now have  a comprehensive and robust benchmark of home value trends can be computed which is immune to the changing mix of properties that sell in different periods of time.**"
   ]
  },
  {
   "cell_type": "markdown",
   "metadata": {},
   "source": [
    "### Zillow Home Value Index (Median Home Value):"
   ]
  },
  {
   "cell_type": "code",
   "execution_count": 11,
   "metadata": {
    "collapsed": false
   },
   "outputs": [],
   "source": [
    "ZHVI = read_csv('Metro_Zhvi_Summary_AllHomes (1).csv').set_index('RegionName')\n",
    "\n",
    "\n",
    "x = ['Austin, TX', 'Boston, MA', 'Washington, DC', 'Denver, CO', 'Los Angeles-Long Beach-Anaheim, CA', 'Nashville, TN', 'New York, NY', 'Portland, OR', 'San Diego, CA', 'Seattle, WA', 'San Francisco, CA', 'New Orleans, LA']\n",
    "y = ['Zhvi', 'MoM', 'QoQ', 'YoY', '5Year', '10Year']\n",
    "\n",
    "ZHVI = ZHVI.loc[x , y ]"
   ]
  },
  {
   "cell_type": "markdown",
   "metadata": {},
   "source": [
    "**Putting all the data into one Dataframe for coorelation analysis:**"
   ]
  },
  {
   "cell_type": "code",
   "execution_count": 12,
   "metadata": {
    "collapsed": false
   },
   "outputs": [
    {
     "data": {
      "text/html": [
       "<div>\n",
       "<table border=\"1\" class=\"dataframe\">\n",
       "  <thead>\n",
       "    <tr style=\"text-align: right;\">\n",
       "      <th></th>\n",
       "      <th>ZHVI</th>\n",
       "      <th>ZHVI_MoM</th>\n",
       "      <th>ZHVI_QoQ</th>\n",
       "      <th>ZHVI_YoY</th>\n",
       "      <th>ZHVI_5Year</th>\n",
       "      <th>ZHVI_10Year</th>\n",
       "    </tr>\n",
       "    <tr>\n",
       "      <th>RegionName</th>\n",
       "      <th></th>\n",
       "      <th></th>\n",
       "      <th></th>\n",
       "      <th></th>\n",
       "      <th></th>\n",
       "      <th></th>\n",
       "    </tr>\n",
       "  </thead>\n",
       "  <tbody>\n",
       "    <tr>\n",
       "      <th>Austin, TX</th>\n",
       "      <td>258600.0</td>\n",
       "      <td>0.002714</td>\n",
       "      <td>0.012133</td>\n",
       "      <td>0.083822</td>\n",
       "      <td>0.082968</td>\n",
       "      <td>0.039407</td>\n",
       "    </tr>\n",
       "    <tr>\n",
       "      <th>Boston, MA</th>\n",
       "      <td>405200.0</td>\n",
       "      <td>0.007209</td>\n",
       "      <td>0.019115</td>\n",
       "      <td>0.059623</td>\n",
       "      <td>0.053598</td>\n",
       "      <td>0.010531</td>\n",
       "    </tr>\n",
       "    <tr>\n",
       "      <th>Washington, DC</th>\n",
       "      <td>375900.0</td>\n",
       "      <td>0.004275</td>\n",
       "      <td>0.011572</td>\n",
       "      <td>0.026488</td>\n",
       "      <td>0.037900</td>\n",
       "      <td>-0.010914</td>\n",
       "    </tr>\n",
       "    <tr>\n",
       "      <th>Denver, CO</th>\n",
       "      <td>350400.0</td>\n",
       "      <td>0.007476</td>\n",
       "      <td>0.023066</td>\n",
       "      <td>0.101887</td>\n",
       "      <td>0.102926</td>\n",
       "      <td>0.040802</td>\n",
       "    </tr>\n",
       "    <tr>\n",
       "      <th>Los Angeles-Long Beach-Anaheim, CA</th>\n",
       "      <td>584700.0</td>\n",
       "      <td>0.005157</td>\n",
       "      <td>0.014752</td>\n",
       "      <td>0.059815</td>\n",
       "      <td>0.083031</td>\n",
       "      <td>-0.002961</td>\n",
       "    </tr>\n",
       "    <tr>\n",
       "      <th>Nashville, TN</th>\n",
       "      <td>202400.0</td>\n",
       "      <td>0.012000</td>\n",
       "      <td>0.031600</td>\n",
       "      <td>0.114537</td>\n",
       "      <td>0.066053</td>\n",
       "      <td>0.027840</td>\n",
       "    </tr>\n",
       "    <tr>\n",
       "      <th>New York, NY</th>\n",
       "      <td>398000.0</td>\n",
       "      <td>0.005558</td>\n",
       "      <td>0.023136</td>\n",
       "      <td>0.057386</td>\n",
       "      <td>0.029412</td>\n",
       "      <td>-0.011078</td>\n",
       "    </tr>\n",
       "    <tr>\n",
       "      <th>Portland, OR</th>\n",
       "      <td>349500.0</td>\n",
       "      <td>0.009241</td>\n",
       "      <td>0.029455</td>\n",
       "      <td>0.146277</td>\n",
       "      <td>0.101233</td>\n",
       "      <td>0.020504</td>\n",
       "    </tr>\n",
       "    <tr>\n",
       "      <th>San Diego, CA</th>\n",
       "      <td>524900.0</td>\n",
       "      <td>0.004017</td>\n",
       "      <td>0.015084</td>\n",
       "      <td>0.064058</td>\n",
       "      <td>0.086299</td>\n",
       "      <td>-0.000266</td>\n",
       "    </tr>\n",
       "    <tr>\n",
       "      <th>Seattle, WA</th>\n",
       "      <td>409900.0</td>\n",
       "      <td>0.008364</td>\n",
       "      <td>0.023215</td>\n",
       "      <td>0.122091</td>\n",
       "      <td>0.093059</td>\n",
       "      <td>0.011144</td>\n",
       "    </tr>\n",
       "    <tr>\n",
       "      <th>San Francisco, CA</th>\n",
       "      <td>821800.0</td>\n",
       "      <td>0.005137</td>\n",
       "      <td>0.015445</td>\n",
       "      <td>0.053725</td>\n",
       "      <td>0.113260</td>\n",
       "      <td>0.017017</td>\n",
       "    </tr>\n",
       "    <tr>\n",
       "      <th>New Orleans, LA</th>\n",
       "      <td>NaN</td>\n",
       "      <td>NaN</td>\n",
       "      <td>NaN</td>\n",
       "      <td>NaN</td>\n",
       "      <td>NaN</td>\n",
       "      <td>NaN</td>\n",
       "    </tr>\n",
       "  </tbody>\n",
       "</table>\n",
       "</div>"
      ],
      "text/plain": [
       "                                        ZHVI  ZHVI_MoM  ZHVI_QoQ  ZHVI_YoY  \\\n",
       "RegionName                                                                   \n",
       "Austin, TX                          258600.0  0.002714  0.012133  0.083822   \n",
       "Boston, MA                          405200.0  0.007209  0.019115  0.059623   \n",
       "Washington, DC                      375900.0  0.004275  0.011572  0.026488   \n",
       "Denver, CO                          350400.0  0.007476  0.023066  0.101887   \n",
       "Los Angeles-Long Beach-Anaheim, CA  584700.0  0.005157  0.014752  0.059815   \n",
       "Nashville, TN                       202400.0  0.012000  0.031600  0.114537   \n",
       "New York, NY                        398000.0  0.005558  0.023136  0.057386   \n",
       "Portland, OR                        349500.0  0.009241  0.029455  0.146277   \n",
       "San Diego, CA                       524900.0  0.004017  0.015084  0.064058   \n",
       "Seattle, WA                         409900.0  0.008364  0.023215  0.122091   \n",
       "San Francisco, CA                   821800.0  0.005137  0.015445  0.053725   \n",
       "New Orleans, LA                          NaN       NaN       NaN       NaN   \n",
       "\n",
       "                                    ZHVI_5Year  ZHVI_10Year  \n",
       "RegionName                                                   \n",
       "Austin, TX                            0.082968     0.039407  \n",
       "Boston, MA                            0.053598     0.010531  \n",
       "Washington, DC                        0.037900    -0.010914  \n",
       "Denver, CO                            0.102926     0.040802  \n",
       "Los Angeles-Long Beach-Anaheim, CA    0.083031    -0.002961  \n",
       "Nashville, TN                         0.066053     0.027840  \n",
       "New York, NY                          0.029412    -0.011078  \n",
       "Portland, OR                          0.101233     0.020504  \n",
       "San Diego, CA                         0.086299    -0.000266  \n",
       "Seattle, WA                           0.093059     0.011144  \n",
       "San Francisco, CA                     0.113260     0.017017  \n",
       "New Orleans, LA                            NaN          NaN  "
      ]
     },
     "execution_count": 12,
     "metadata": {},
     "output_type": "execute_result"
    }
   ],
   "source": [
    "df_zillow = ZHVI\n",
    "df_zillow.columns = ['ZHVI', 'ZHVI_MoM', 'ZHVI_QoQ', 'ZHVI_YoY', 'ZHVI_5Year', 'ZHVI_10Year']\n",
    "df_zillow"
   ]
  },
  {
   "cell_type": "markdown",
   "metadata": {},
   "source": [
    "---"
   ]
  },
  {
   "cell_type": "markdown",
   "metadata": {},
   "source": [
    "# Part 2: Listing Trends and the Real Estate Metrics"
   ]
  },
  {
   "cell_type": "markdown",
   "metadata": {},
   "source": [
    "###  How does the median home price of a city influence the price of an Airbnb listing?\n",
    "The average price of a listing seems to increase as the median home value, as measured by the Zillow Home Value Index increases. \n",
    "\n",
    "Nashville and Austin are two outliers, with low median home values and high average listing prices."
   ]
  },
  {
   "cell_type": "code",
   "execution_count": 13,
   "metadata": {
    "collapsed": false
   },
   "outputs": [
    {
     "data": {
      "text/plain": [
       "<matplotlib.text.Text at 0x116b82fd0>"
      ]
     },
     "execution_count": 13,
     "metadata": {},
     "output_type": "execute_result"
    },
    {
     "data": {
      "image/png": "[encoded data removed]",
      "text/plain": [
       "<matplotlib.figure.Figure at 0x117172ed0>"
      ]
     },
     "metadata": {},
     "output_type": "display_data"
    }
   ],
   "source": [
    "df = concat([statistics['price']['mean'], df_zillow['ZHVI']], axis = 1).dropna()\n",
    "\n",
    "x = df['ZHVI']\n",
    "y = df['mean']\n",
    "\n",
    "\n",
    "n = (df.index).tolist()\n",
    "\n",
    "fig, ax = plt.subplots()\n",
    "ax.scatter(x, y, c=y,cmap = cmap, s =200)\n",
    "\n",
    "for i, txt in enumerate(n):\n",
    "    ax.annotate(txt, (x[i],y[i]), fontsize = 10)\n",
    "    \n",
    "    \n",
    "plt.xlabel('Median Home Price', fontsize=14)\n",
    "plt.ylabel('Average Price ABNB Listing', fontsize=14)\n",
    "plt.title('Home Price(ZHVI) and Airbnb Listing Price', fontsize=14, fontweight='bold')\n"
   ]
  },
  {
   "cell_type": "markdown",
   "metadata": {},
   "source": [
    "### How does the change in home price over five years coorelate to the price? Are listings in emerging cities, with high growth, priced at a higher value?\n",
    "A little over half the data follow the relationhip of the average listing price increasing as home value increases. However, LA, Seattle, Denver and Portland have had high growth in home values over the last five years yet have maintianed relatively low prices. "
   ]
  },
  {
   "cell_type": "code",
   "execution_count": 14,
   "metadata": {
    "collapsed": false
   },
   "outputs": [
    {
     "data": {
      "text/plain": [
       "<matplotlib.text.Text at 0x11a41c110>"
      ]
     },
     "execution_count": 14,
     "metadata": {},
     "output_type": "execute_result"
    },
    {
     "data": {
      "image/png": "[encoded data removed]",
      "text/plain": [
       "<matplotlib.figure.Figure at 0x103a10ed0>"
      ]
     },
     "metadata": {},
     "output_type": "display_data"
    }
   ],
   "source": [
    "df = concat([statistics['price']['mean'], df_zillow['ZHVI_5Year']], axis = 1).dropna()\n",
    "\n",
    "x = df['ZHVI_5Year'] *100\n",
    "y = df['mean']\n",
    "\n",
    "n = (df.index).tolist()\n",
    "\n",
    "fig, ax = plt.subplots()\n",
    "ax.scatter(x, y, c=y,cmap = cmap , s =200)\n",
    "\n",
    "for i, txt in enumerate(n):\n",
    "    ax.annotate(txt, (x[i],y[i]), fontsize = 10)\n",
    "    \n",
    "plt.xlabel('5 Year Home Price Growth ', fontsize=14)    \n",
    "plt.ylabel('Average Price ABNB Listing', fontsize=14)\n",
    "plt.title('Home Price Growth, 5 Years and ABNB Listing Price', fontsize=14, fontweight='bold')"
   ]
  },
  {
   "cell_type": "markdown",
   "metadata": {
    "collapsed": false
   },
   "source": [
    "### Coorelation Matrix for ZHVI: How do ZHVI metrics relate to one another?"
   ]
  },
  {
   "cell_type": "code",
   "execution_count": 270,
   "metadata": {
    "collapsed": false
   },
   "outputs": [
    {
     "data": {
      "text/plain": [
       "<matplotlib.axes._subplots.AxesSubplot at 0x126c447d0>"
      ]
     },
     "execution_count": 270,
     "metadata": {},
     "output_type": "execute_result"
    },
    {
     "data": {
      "image/png": "[encoded data removed]",
      "text/plain": [
       "<matplotlib.figure.Figure at 0x11c02ecd0>"
      ]
     },
     "metadata": {},
     "output_type": "display_data"
    }
   ],
   "source": [
    "df2 = df_zillow\n",
    "df2.columns = ['Z', 'M', 'Q', 'Y', '5', '10']\n",
    "coor= df1.corr()\n",
    "\n",
    "# Generate a mask for the upper triangle\n",
    "mask = np.zeros_like(df2.corr(), dtype=np.bool)\n",
    "mask[np.triu_indices_from(mask)] = True\n",
    "\n",
    "# Set up the matplotlib figure\n",
    "f, ax = plt.subplots(figsize=(11, 9))\n",
    "\n",
    "# Generate a custom diverging colormap\n",
    "cmap = sns.diverging_palette(220, 10, as_cmap=True)\n",
    "\n",
    "# Draw the heatmap with the mask and correct aspect ratio\n",
    "sns.heatmap(df2.corr(), mask=mask, cmap=cmap, vmax=.3,\n",
    "            square=True, xticklabels=2, yticklabels=5,\n",
    "            linewidths=.5, cbar_kws={\"shrink\": .5}, ax=ax)"
   ]
  },
  {
   "cell_type": "markdown",
   "metadata": {},
   "source": [
    "### Coorelation Matrix for ZHVI and Price: How do Listing Price and Home Value relate?"
   ]
  },
  {
   "cell_type": "code",
   "execution_count": 282,
   "metadata": {
    "collapsed": false
   },
   "outputs": [
    {
     "data": {
      "text/plain": [
       "<matplotlib.axes._subplots.AxesSubplot at 0x1277efed0>"
      ]
     },
     "execution_count": 282,
     "metadata": {},
     "output_type": "execute_result"
    },
    {
     "data": {
      "image/png": "[encoded data removed]",
      "text/plain": [
       "<matplotlib.figure.Figure at 0x12519d350>"
      ]
     },
     "metadata": {},
     "output_type": "display_data"
    }
   ],
   "source": [
    "df1 = DataFrame(statistics.iloc[:,17])\n",
    "df = concat([df1, df2], axis =1)\n",
    "coor= df.corr()\n",
    "\n",
    "# Generate a mask for the upper triangle\n",
    "mask = np.zeros_like(df.corr(), dtype=np.bool)\n",
    "mask[np.triu_indices_from(mask)] = True\n",
    "\n",
    "# Set up the matplotlib figure\n",
    "f, ax = plt.subplots(figsize=(11, 9))\n",
    "a\n",
    "# Generate a custom diverging colormap\n",
    "cmap = sns.diverging_palette(220, 10, as_cmap=True)\n",
    "\n",
    "# Draw the heatmap with the mask and correct aspect ratio\n",
    "sns.heatmap(df.corr(), mask=mask, cmap=cmap, vmax=.3,\n",
    "            square=True, xticklabels=2, yticklabels=5,\n",
    "            linewidths=.5, cbar_kws={\"shrink\": .5}, ax=ax)"
   ]
  },
  {
   "cell_type": "markdown",
   "metadata": {},
   "source": [
    "---\n",
    "# Part 3: Listing Price Prediction Model with ZHVI"
   ]
  },
  {
   "cell_type": "code",
   "execution_count": null,
   "metadata": {
    "collapsed": true
   },
   "outputs": [],
   "source": []
  }
 ],
 "metadata": {
  "anaconda-cloud": {},
  "kernelspec": {
   "display_name": "Python [Root]",
   "language": "python",
   "name": "Python [Root]"
  },
  "language_info": {
   "codemirror_mode": {
    "name": "ipython",
    "version": 2
   },
   "file_extension": ".py",
   "mimetype": "text/x-python",
   "name": "python",
   "nbconvert_exporter": "python",
   "pygments_lexer": "ipython2",
   "version": "2.7.12"
  }
 },
 "nbformat": 4,
 "nbformat_minor": 0
}
