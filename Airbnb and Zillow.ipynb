{
 "cells": [
  {
   "cell_type": "markdown",
   "metadata": {},
   "source": [
    "<h1><center> Insights into US Airbnb Listing Metrics using Zillow Home Value Index and Real Estate Data</center></h1>\n"
   ]
  },
  {
   "cell_type": "markdown",
   "metadata": {},
   "source": [
    "---\n",
    "### *An analysis of Airbnb listings in popular US travel destinations in conjuction with Zillow's residential real estate data to predict price, value, popularity of Airbnb listings given the housing climate of a US city.*\n",
    "---\n",
    "### This exploration will be conducted in four parts:\n",
    "**Part 1:**  *What are the Airbnb listing trends in the U.S. Market? *\n",
    "\n",
    "** Part 2:**  *Are there certain real estate metrics that highly influence Airbnb metrics in U.S. cities? *\n",
    "\n",
    "**Part 3:** *Given listing trends, develop indices that measure these trends and a model that can predict them given the Zillow Housing Value Index.*\n",
    "\n",
    "**Part 4:** *How can Airbnb leverage these insights to improve thier product and marketing?*\n",
    "\n"
   ]
  },
  {
   "cell_type": "markdown",
   "metadata": {},
   "source": [
    "Airbnb Data Source: http://insideairbnb.com/\n",
    "\n",
    "Zillow Data Source: http://www.zillow.com/research/data/"
   ]
  },
  {
   "cell_type": "code",
   "execution_count": 3,
   "metadata": {
    "collapsed": true
   },
   "outputs": [],
   "source": [
    "import matplotlib\n",
    "import numpy as np\n",
    "import matplotlib.pyplot as plt\n",
    "import seaborn as sns\n",
    "from pandas import *\n",
    "%matplotlib inline \n",
    "\n",
    "import warnings\n",
    "warnings.filterwarnings('ignore')"
   ]
  },
  {
   "cell_type": "code",
   "execution_count": 4,
   "metadata": {
    "collapsed": true
   },
   "outputs": [],
   "source": [
    "def read_data(location):\n",
    "    location = location[['id', 'room_type', 'accommodates', 'bathrooms', 'bedrooms', 'price', 'minimum_nights',\n",
    "       'availability_365', 'number_of_reviews', 'review_scores_rating',\n",
    "       'review_scores_accuracy', 'review_scores_value']]\n",
    "    return location\n",
    "\n",
    "def get_stats(location):\n",
    "    x = ['accommodates', 'bathrooms', 'bedrooms', 'price', 'minimum_nights',\n",
    "       'availability_365', 'number_of_reviews', 'review_scores_rating',\n",
    "       'review_scores_accuracy', 'review_scores_value']\n",
    "    location = location.loc[:, x]\n",
    "    location_stats = location.describe()\n",
    "    location_stats = concat([location_stats.ix[0:4], location_stats.ix[7:]])\n",
    "    return location_stats\n",
    "\n",
    "def reorder(location):\n",
    "    new = location.set_index('location', append = True).unstack(0)\n",
    "    return new"
   ]
  },
  {
   "cell_type": "markdown",
   "metadata": {},
   "source": [
    "---\n",
    "# The Airbnb Data"
   ]
  },
  {
   "cell_type": "markdown",
   "metadata": {},
   "source": [
    "## a) Reading and Cleaning:"
   ]
  },
  {
   "cell_type": "code",
   "execution_count": 5,
   "metadata": {
    "collapsed": false
   },
   "outputs": [],
   "source": [
    "austin = read_csv('austin.csv')\n",
    "austin = read_data(austin)\n",
    "austin['price'] = austin['price'].map(lambda x: str(x)[1:]).convert_objects(convert_numeric=True)\n",
    "\n",
    "boston = read_csv('boston.csv')\n",
    "boston = read_data(boston)\n",
    "boston['price'] = boston['price'].map(lambda x: str(x)[1:]).convert_objects(convert_numeric=True)\n",
    "\n",
    "dc = read_csv('dc.csv')\n",
    "dc = read_data(dc)\n",
    "dc['price'] = dc['price'].map(lambda x: str(x)[1:]).convert_objects(convert_numeric=True)\n",
    "\n",
    "denver = read_csv('denver.csv')\n",
    "denver = read_data(denver)\n",
    "denver['price'] = denver['price'].map(lambda x: str(x)[1:]).convert_objects(convert_numeric=True)\n",
    "\n",
    "la = read_csv('la.csv')\n",
    "la = read_data(la)\n",
    "la['price'] = la['price'].map(lambda x: str(x)[1:]).convert_objects(convert_numeric=True)\n",
    "\n",
    "nashville = read_csv('nashville.csv')\n",
    "nashville = read_data(nashville)\n",
    "nashville['price'] = nashville['price'].map(lambda x: str(x)[1:]).convert_objects(convert_numeric=True)\n",
    "\n",
    "nyc = read_csv('nyc.csv')\n",
    "nyc = read_data(nyc)\n",
    "nyc['price'] = nyc['price'].map(lambda x: str(x)[1:]).convert_objects(convert_numeric=True)\n",
    "\n",
    "portland = read_csv('portland.csv')\n",
    "portland = read_data(portland)\n",
    "portland['price'] = portland['price'].map(lambda x: str(x)[1:]).convert_objects(convert_numeric=True)\n",
    "\n",
    "sandiego = read_csv('sandiego.csv')\n",
    "sandiego = read_data(sandiego)\n",
    "sandiego['price'] = sandiego['price'].map(lambda x: str(x)[1:]).convert_objects(convert_numeric=True)\n",
    "\n",
    "seattle = read_csv('seattle.csv')\n",
    "seattle = read_data(seattle)\n",
    "seattle['price'] = seattle['price'].map(lambda x: str(x)[1:]).convert_objects(convert_numeric=True)\n",
    "\n",
    "sf = read_csv('sf.csv')\n",
    "sf = read_data(sf)\n",
    "sf['price'] = sf['price'].map(lambda x: str(x)[1:]).convert_objects(convert_numeric=True)\n",
    "\n",
    "neworleans = read_csv('new_orleans.csv')\n",
    "neworleans = read_data(neworleans)\n",
    "neworleans['price'] = neworleans['price'].map(lambda x: str(x)[1:]).convert_objects(convert_numeric=True)"
   ]
  },
  {
   "cell_type": "markdown",
   "metadata": {},
   "source": [
    "A look into the Airbnb listing features provided for each city by the data:"
   ]
  },
  {
   "cell_type": "code",
   "execution_count": 479,
   "metadata": {
    "collapsed": false
   },
   "outputs": [
    {
     "data": {
      "text/plain": [
       "array(['id', 'room_type', 'accommodates', 'bathrooms', 'bedrooms', 'price',\n",
       "       'minimum_nights', 'availability_365', 'number_of_reviews',\n",
       "       'review_scores_rating', 'review_scores_accuracy',\n",
       "       'review_scores_value'], dtype=object)"
      ]
     },
     "execution_count": 479,
     "metadata": {},
     "output_type": "execute_result"
    }
   ],
   "source": [
    "austin.columns.values"
   ]
  },
  {
   "cell_type": "markdown",
   "metadata": {},
   "source": [
    "## b) Getting Statistics on Airbnb Data:\n",
    "\n",
    "Creating a dataframe to house statistical summaries of the listing data so that we can analyze listing trends."
   ]
  },
  {
   "cell_type": "code",
   "execution_count": 6,
   "metadata": {
    "collapsed": false
   },
   "outputs": [
    {
     "data": {
      "text/html": [
       "<div>\n",
       "<table border=\"1\" class=\"dataframe\">\n",
       "  <thead>\n",
       "    <tr>\n",
       "      <th></th>\n",
       "      <th colspan=\"5\" halign=\"left\">accommodates</th>\n",
       "      <th colspan=\"5\" halign=\"left\">bathrooms</th>\n",
       "      <th>...</th>\n",
       "      <th colspan=\"5\" halign=\"left\">review_scores_accuracy</th>\n",
       "      <th colspan=\"5\" halign=\"left\">review_scores_value</th>\n",
       "    </tr>\n",
       "    <tr>\n",
       "      <th></th>\n",
       "      <th>count</th>\n",
       "      <th>max</th>\n",
       "      <th>mean</th>\n",
       "      <th>min</th>\n",
       "      <th>std</th>\n",
       "      <th>count</th>\n",
       "      <th>max</th>\n",
       "      <th>mean</th>\n",
       "      <th>min</th>\n",
       "      <th>std</th>\n",
       "      <th>...</th>\n",
       "      <th>count</th>\n",
       "      <th>max</th>\n",
       "      <th>mean</th>\n",
       "      <th>min</th>\n",
       "      <th>std</th>\n",
       "      <th>count</th>\n",
       "      <th>max</th>\n",
       "      <th>mean</th>\n",
       "      <th>min</th>\n",
       "      <th>std</th>\n",
       "    </tr>\n",
       "    <tr>\n",
       "      <th>location</th>\n",
       "      <th></th>\n",
       "      <th></th>\n",
       "      <th></th>\n",
       "      <th></th>\n",
       "      <th></th>\n",
       "      <th></th>\n",
       "      <th></th>\n",
       "      <th></th>\n",
       "      <th></th>\n",
       "      <th></th>\n",
       "      <th></th>\n",
       "      <th></th>\n",
       "      <th></th>\n",
       "      <th></th>\n",
       "      <th></th>\n",
       "      <th></th>\n",
       "      <th></th>\n",
       "      <th></th>\n",
       "      <th></th>\n",
       "      <th></th>\n",
       "      <th></th>\n",
       "    </tr>\n",
       "  </thead>\n",
       "  <tbody>\n",
       "    <tr>\n",
       "      <th>Austin, TX</th>\n",
       "      <td>5835.0</td>\n",
       "      <td>16.0</td>\n",
       "      <td>4.388175</td>\n",
       "      <td>1.0</td>\n",
       "      <td>2.689056</td>\n",
       "      <td>5789.0</td>\n",
       "      <td>8.0</td>\n",
       "      <td>1.479617</td>\n",
       "      <td>0.0</td>\n",
       "      <td>0.774630</td>\n",
       "      <td>...</td>\n",
       "      <td>3776.0</td>\n",
       "      <td>10.0</td>\n",
       "      <td>9.645657</td>\n",
       "      <td>2.0</td>\n",
       "      <td>0.757809</td>\n",
       "      <td>3778.0</td>\n",
       "      <td>10.0</td>\n",
       "      <td>9.416093</td>\n",
       "      <td>2.0</td>\n",
       "      <td>0.892991</td>\n",
       "    </tr>\n",
       "    <tr>\n",
       "      <th>Boston, MA</th>\n",
       "      <td>3585.0</td>\n",
       "      <td>16.0</td>\n",
       "      <td>3.041283</td>\n",
       "      <td>1.0</td>\n",
       "      <td>1.778929</td>\n",
       "      <td>3571.0</td>\n",
       "      <td>6.0</td>\n",
       "      <td>1.221647</td>\n",
       "      <td>0.0</td>\n",
       "      <td>0.501487</td>\n",
       "      <td>...</td>\n",
       "      <td>2762.0</td>\n",
       "      <td>10.0</td>\n",
       "      <td>9.431571</td>\n",
       "      <td>2.0</td>\n",
       "      <td>0.931863</td>\n",
       "      <td>2764.0</td>\n",
       "      <td>10.0</td>\n",
       "      <td>9.168234</td>\n",
       "      <td>2.0</td>\n",
       "      <td>1.011116</td>\n",
       "    </tr>\n",
       "  </tbody>\n",
       "</table>\n",
       "<p>2 rows × 50 columns</p>\n",
       "</div>"
      ],
      "text/plain": [
       "           accommodates                                bathrooms       \\\n",
       "                  count   max      mean  min       std     count  max   \n",
       "location                                                                \n",
       "Austin, TX       5835.0  16.0  4.388175  1.0  2.689056    5789.0  8.0   \n",
       "Boston, MA       3585.0  16.0  3.041283  1.0  1.778929    3571.0  6.0   \n",
       "\n",
       "                                       ...    review_scores_accuracy        \\\n",
       "                mean  min       std    ...                     count   max   \n",
       "location                               ...                                   \n",
       "Austin, TX  1.479617  0.0  0.774630    ...                    3776.0  10.0   \n",
       "Boston, MA  1.221647  0.0  0.501487    ...                    2762.0  10.0   \n",
       "\n",
       "                                    review_scores_value                       \\\n",
       "                mean  min       std               count   max      mean  min   \n",
       "location                                                                       \n",
       "Austin, TX  9.645657  2.0  0.757809              3778.0  10.0  9.416093  2.0   \n",
       "Boston, MA  9.431571  2.0  0.931863              2764.0  10.0  9.168234  2.0   \n",
       "\n",
       "                      \n",
       "                 std  \n",
       "location              \n",
       "Austin, TX  0.892991  \n",
       "Boston, MA  1.011116  \n",
       "\n",
       "[2 rows x 50 columns]"
      ]
     },
     "execution_count": 6,
     "metadata": {},
     "output_type": "execute_result"
    }
   ],
   "source": [
    "austin_s = get_stats(austin)\n",
    "austin_s['location'] = 'Austin, TX'\n",
    "austin_s = reorder(austin_s)\n",
    "\n",
    "boston_s = get_stats(boston)\n",
    "boston_s['location'] = 'Boston, MA'\n",
    "boston_s = reorder(boston_s)\n",
    "\n",
    "dc_s = get_stats(dc)\n",
    "dc_s['location'] = 'Washington, DC'\n",
    "dc_s = reorder(dc_s)\n",
    "\n",
    "denver_s = get_stats(denver)\n",
    "denver_s['location'] = 'Denver, CO'\n",
    "denver_s = reorder(denver_s)\n",
    "\n",
    "la_s = get_stats(la)\n",
    "la_s['location'] = 'Los Angeles-Long Beach-Anaheim, CA'\n",
    "la_s = reorder(la_s)\n",
    "\n",
    "nashville_s = get_stats(nashville)\n",
    "nashville_s['location'] = 'Nashville, TN'\n",
    "nashville_s = reorder(nashville_s)\n",
    "\n",
    "nyc_s = get_stats(nyc)\n",
    "nyc_s['location'] = 'New York, NY'\n",
    "nyc_s = reorder(nyc_s)\n",
    "\n",
    "portland_s = get_stats(portland)\n",
    "portland_s['location'] = 'Portland, OR'\n",
    "portland_s = reorder(portland_s)\n",
    "\n",
    "sandiego_s = get_stats(sandiego)\n",
    "sandiego_s['location'] = 'San Diego, CA'\n",
    "sandiego_s = reorder(sandiego_s)\n",
    "\n",
    "seattle_s = get_stats(seattle)\n",
    "seattle_s['location'] = 'Seattle, WA'\n",
    "seattle_s = reorder(seattle_s)\n",
    "\n",
    "sf_s = get_stats(sf)\n",
    "sf_s['location'] = 'San Francisco, CA'\n",
    "sf_s = reorder(sf_s)\n",
    "\n",
    "neworleans_s = get_stats(neworleans)\n",
    "neworleans_s['location'] = 'New Orleans, LA'\n",
    "neworleans_s = reorder(neworleans_s)\n",
    "\n",
    "statistics = concat([austin_s, boston_s, dc_s, denver_s, la_s, nashville_s, nyc_s, portland_s, sandiego_s, seattle_s, sf_s, neworleans_s])\n",
    "statistics.head(2)"
   ]
  },
  {
   "cell_type": "markdown",
   "metadata": {},
   "source": [
    "Columns included in statistical summary:"
   ]
  },
  {
   "cell_type": "code",
   "execution_count": 421,
   "metadata": {
    "collapsed": false
   },
   "outputs": [
    {
     "data": {
      "text/plain": [
       "array([('accommodates', 'count'), ('accommodates', 'max'),\n",
       "       ('accommodates', 'mean'), ('accommodates', 'min'),\n",
       "       ('accommodates', 'std'), ('bathrooms', 'count'),\n",
       "       ('bathrooms', 'max'), ('bathrooms', 'mean'), ('bathrooms', 'min'),\n",
       "       ('bathrooms', 'std'), ('bedrooms', 'count'), ('bedrooms', 'max'),\n",
       "       ('bedrooms', 'mean'), ('bedrooms', 'min'), ('bedrooms', 'std'),\n",
       "       ('price', 'count'), ('price', 'max'), ('price', 'mean'),\n",
       "       ('price', 'min'), ('price', 'std'), ('minimum_nights', 'count'),\n",
       "       ('minimum_nights', 'max'), ('minimum_nights', 'mean'),\n",
       "       ('minimum_nights', 'min'), ('minimum_nights', 'std'),\n",
       "       ('availability_365', 'count'), ('availability_365', 'max'),\n",
       "       ('availability_365', 'mean'), ('availability_365', 'min'),\n",
       "       ('availability_365', 'std'), ('number_of_reviews', 'count'),\n",
       "       ('number_of_reviews', 'max'), ('number_of_reviews', 'mean'),\n",
       "       ('number_of_reviews', 'min'), ('number_of_reviews', 'std'),\n",
       "       ('review_scores_rating', 'count'), ('review_scores_rating', 'max'),\n",
       "       ('review_scores_rating', 'mean'), ('review_scores_rating', 'min'),\n",
       "       ('review_scores_rating', 'std'),\n",
       "       ('review_scores_accuracy', 'count'),\n",
       "       ('review_scores_accuracy', 'max'),\n",
       "       ('review_scores_accuracy', 'mean'),\n",
       "       ('review_scores_accuracy', 'min'),\n",
       "       ('review_scores_accuracy', 'std'), ('review_scores_value', 'count'),\n",
       "       ('review_scores_value', 'max'), ('review_scores_value', 'mean'),\n",
       "       ('review_scores_value', 'min'), ('review_scores_value', 'std')], dtype=object)"
      ]
     },
     "execution_count": 421,
     "metadata": {},
     "output_type": "execute_result"
    }
   ],
   "source": [
    "statistics.columns.values"
   ]
  },
  {
   "cell_type": "markdown",
   "metadata": {},
   "source": [
    "---"
   ]
  },
  {
   "cell_type": "markdown",
   "metadata": {},
   "source": [
    "# Part 1: Exploring Airbnb Data -- Listing Trends in U.S. Cities"
   ]
  },
  {
   "cell_type": "markdown",
   "metadata": {},
   "source": [
    "### Count of Listings per City: Which cities have the most listings?\n",
    "\n",
    "New York and Los Angeles are outliers with a relatively far larger amount of listings than the others. This high supply of listings suggests that they are the more popular travel destinations. San Francsico comes in third and San Diego fourth. \n",
    "\n",
    "As expected, smaller and less frequented cities Portland, Nashville and Denver have the least amount of listings."
   ]
  },
  {
   "cell_type": "code",
   "execution_count": 507,
   "metadata": {
    "collapsed": false
   },
   "outputs": [
    {
     "data": {
      "text/plain": [
       "New York         39553\n",
       "Los Angeles      26080\n",
       "San Francisco     8619\n",
       "San Diego         6608\n",
       "Austin            5835\n",
       "New Orleans       4514\n",
       "Seattle           3818\n",
       "Washington        3723\n",
       "Boston            3585\n",
       "Portland          3360\n",
       "Nashville         3277\n",
       "Denver            2505\n",
       "Name: 0, dtype: int64"
      ]
     },
     "execution_count": 507,
     "metadata": {},
     "output_type": "execute_result"
    }
   ],
   "source": [
    "x = {'Austin': len(austin), 'Boston' : len(boston), \n",
    "     'Washington' : len(dc), 'Denver' : len(denver), \n",
    "     'Los Angeles': len(la), 'Nashville': len(nashville), \n",
    "     'New York': len(nyc), 'Portland' : len(portland), \n",
    "     'San Diego' : len(sandiego), 'Seattle' : len(seattle), \n",
    "     'San Francisco' : len(sf), 'New Orleans' : len(neworleans) }\n",
    "\n",
    "df = DataFrame(x, index=[0]).stack()\n",
    "df = DataFrame(df).sort([0], ascending=[False]).reset_index(0)\n",
    "df[0]"
   ]
  },
  {
   "cell_type": "code",
   "execution_count": 508,
   "metadata": {
    "collapsed": false
   },
   "outputs": [
    {
     "data": {
      "text/plain": [
       "<matplotlib.axes._subplots.AxesSubplot at 0x129e1f5d0>"
      ]
     },
     "execution_count": 508,
     "metadata": {},
     "output_type": "execute_result"
    },
    {
     "data": {
      "image/png": "[encoded data removed]",
      "text/plain": [
       "<matplotlib.figure.Figure at 0x13c331890>"
      ]
     },
     "metadata": {},
     "output_type": "display_data"
    }
   ],
   "source": [
    "df[0].plot(kind = 'bar')"
   ]
  },
  {
   "cell_type": "markdown",
   "metadata": {},
   "source": [
    "### Average Price per City: Where is it the most and least expensive to stay, on average, at an Airbnb listing?\n",
    "\n",
    "Austin, San Francisco and Nashville have the most expensive listing prices on average, while Denver, Seattle and  Portland are the cheaper places to stay, on average. \n",
    "\n",
    "A high price might suggest that the supply of listings is low and therefore hosts are not competitive when it comes to price. The two citites with the highest number fo listings, New York adn Los Angeles have prices that fall at the lower end of the distribution, which may suggest that a higher number of listings makes the market more competitive and drives prices down. "
   ]
  },
  {
   "cell_type": "code",
   "execution_count": 419,
   "metadata": {
    "collapsed": false
   },
   "outputs": [
    {
     "data": {
      "text/html": [
       "<div>\n",
       "<table border=\"1\" class=\"dataframe\">\n",
       "  <thead>\n",
       "    <tr style=\"text-align: right;\">\n",
       "      <th></th>\n",
       "      <th>mean</th>\n",
       "    </tr>\n",
       "    <tr>\n",
       "      <th>location</th>\n",
       "      <th></th>\n",
       "    </tr>\n",
       "  </thead>\n",
       "  <tbody>\n",
       "    <tr>\n",
       "      <th>Austin, TX</th>\n",
       "      <td>231.503207</td>\n",
       "    </tr>\n",
       "    <tr>\n",
       "      <th>San Francisco, CA</th>\n",
       "      <td>208.376430</td>\n",
       "    </tr>\n",
       "    <tr>\n",
       "      <th>Nashville, TN</th>\n",
       "      <td>188.836252</td>\n",
       "    </tr>\n",
       "    <tr>\n",
       "      <th>San Diego, CA</th>\n",
       "      <td>183.789750</td>\n",
       "    </tr>\n",
       "    <tr>\n",
       "      <th>New Orleans, LA</th>\n",
       "      <td>172.031998</td>\n",
       "    </tr>\n",
       "    <tr>\n",
       "      <th>Boston, MA</th>\n",
       "      <td>169.072768</td>\n",
       "    </tr>\n",
       "    <tr>\n",
       "      <th>Los Angeles-Long Beach-Anaheim, CA</th>\n",
       "      <td>146.567610</td>\n",
       "    </tr>\n",
       "    <tr>\n",
       "      <th>Washington, DC</th>\n",
       "      <td>142.323251</td>\n",
       "    </tr>\n",
       "    <tr>\n",
       "      <th>New York, NY</th>\n",
       "      <td>140.057827</td>\n",
       "    </tr>\n",
       "    <tr>\n",
       "      <th>Denver, CO</th>\n",
       "      <td>128.392957</td>\n",
       "    </tr>\n",
       "    <tr>\n",
       "      <th>Seattle, WA</th>\n",
       "      <td>127.747708</td>\n",
       "    </tr>\n",
       "    <tr>\n",
       "      <th>Portland, OR</th>\n",
       "      <td>110.508041</td>\n",
       "    </tr>\n",
       "  </tbody>\n",
       "</table>\n",
       "</div>"
      ],
      "text/plain": [
       "                                          mean\n",
       "location                                      \n",
       "Austin, TX                          231.503207\n",
       "San Francisco, CA                   208.376430\n",
       "Nashville, TN                       188.836252\n",
       "San Diego, CA                       183.789750\n",
       "New Orleans, LA                     172.031998\n",
       "Boston, MA                          169.072768\n",
       "Los Angeles-Long Beach-Anaheim, CA  146.567610\n",
       "Washington, DC                      142.323251\n",
       "New York, NY                        140.057827\n",
       "Denver, CO                          128.392957\n",
       "Seattle, WA                         127.747708\n",
       "Portland, OR                        110.508041"
      ]
     },
     "execution_count": 419,
     "metadata": {},
     "output_type": "execute_result"
    }
   ],
   "source": [
    "DataFrame(statistics['price']['mean'].convert_objects(convert_numeric=True)).sort(['mean'], ascending=[False])"
   ]
  },
  {
   "cell_type": "markdown",
   "metadata": {},
   "source": [
    "### Average Availability of Listings: What cities are more popular to visit?\n",
    "\n",
    "The metric measured here is the average number of available days that can be booked in the next year. The lower the availibility the more popular a city is. The most popular travel destinations for users are San Francisco, New York, Boston. These are large cities so this makes logical sense.\n",
    "\n",
    "Interestingly, Portland and Denver come in as the fourth and fifth most popular. These citites' listings are characterized by a low number of listings and low price. Users may be drawn to these cities due to thier low prices."
   ]
  },
  {
   "cell_type": "code",
   "execution_count": 510,
   "metadata": {
    "collapsed": false
   },
   "outputs": [
    {
     "data": {
      "text/html": [
       "<div>\n",
       "<table border=\"1\" class=\"dataframe\">\n",
       "  <thead>\n",
       "    <tr style=\"text-align: right;\">\n",
       "      <th></th>\n",
       "      <th>mean</th>\n",
       "    </tr>\n",
       "    <tr>\n",
       "      <th>location</th>\n",
       "      <th></th>\n",
       "    </tr>\n",
       "  </thead>\n",
       "  <tbody>\n",
       "    <tr>\n",
       "      <th>San Francisco, CA</th>\n",
       "      <td>143.499594</td>\n",
       "    </tr>\n",
       "    <tr>\n",
       "      <th>New York, NY</th>\n",
       "      <td>157.473592</td>\n",
       "    </tr>\n",
       "    <tr>\n",
       "      <th>Boston, MA</th>\n",
       "      <td>179.346444</td>\n",
       "    </tr>\n",
       "    <tr>\n",
       "      <th>Portland, OR</th>\n",
       "      <td>194.518750</td>\n",
       "    </tr>\n",
       "    <tr>\n",
       "      <th>Denver, CO</th>\n",
       "      <td>195.011976</td>\n",
       "    </tr>\n",
       "    <tr>\n",
       "      <th>San Diego, CA</th>\n",
       "      <td>201.976998</td>\n",
       "    </tr>\n",
       "    <tr>\n",
       "      <th>New Orleans, LA</th>\n",
       "      <td>213.259194</td>\n",
       "    </tr>\n",
       "    <tr>\n",
       "      <th>Nashville, TN</th>\n",
       "      <td>219.202014</td>\n",
       "    </tr>\n",
       "    <tr>\n",
       "      <th>Los Angeles-Long Beach-Anaheim, CA</th>\n",
       "      <td>222.421396</td>\n",
       "    </tr>\n",
       "    <tr>\n",
       "      <th>Washington, DC</th>\n",
       "      <td>235.702391</td>\n",
       "    </tr>\n",
       "    <tr>\n",
       "      <th>Seattle, WA</th>\n",
       "      <td>244.772656</td>\n",
       "    </tr>\n",
       "    <tr>\n",
       "      <th>Austin, TX</th>\n",
       "      <td>269.738646</td>\n",
       "    </tr>\n",
       "  </tbody>\n",
       "</table>\n",
       "</div>"
      ],
      "text/plain": [
       "                                          mean\n",
       "location                                      \n",
       "San Francisco, CA                   143.499594\n",
       "New York, NY                        157.473592\n",
       "Boston, MA                          179.346444\n",
       "Portland, OR                        194.518750\n",
       "Denver, CO                          195.011976\n",
       "San Diego, CA                       201.976998\n",
       "New Orleans, LA                     213.259194\n",
       "Nashville, TN                       219.202014\n",
       "Los Angeles-Long Beach-Anaheim, CA  222.421396\n",
       "Washington, DC                      235.702391\n",
       "Seattle, WA                         244.772656\n",
       "Austin, TX                          269.738646"
      ]
     },
     "execution_count": 510,
     "metadata": {},
     "output_type": "execute_result"
    }
   ],
   "source": [
    "DataFrame(statistics['availability_365']['mean'].convert_objects(convert_numeric=True)).sort(['mean'], ascending=[True])"
   ]
  },
  {
   "cell_type": "markdown",
   "metadata": {},
   "source": [
    "### Price and Availibility Listings: What the relationship between the popularity of a listing and its price?\n",
    "There seems to a positive coorelation beetween the price and percent availibility of a listing. \n",
    "\n",
    "This means that the more/less popular a listing(lower/higher the % Availabiliy) the lower/higher the price. This seems to be in line with the logic that cities which are popular to travel to must be more competive on price, which drives them down. \n",
    "\n",
    "Some outliers are San Francisco which is popular, but still more expensive and Austin which is expensive as well but ont he lower end of the popularity spectrum. "
   ]
  },
  {
   "cell_type": "code",
   "execution_count": 11,
   "metadata": {
    "collapsed": false
   },
   "outputs": [
    {
     "data": {
      "text/plain": [
       "<matplotlib.text.Text at 0x117f05490>"
      ]
     },
     "execution_count": 11,
     "metadata": {},
     "output_type": "execute_result"
    },
    {
     "data": {
      "image/png": "[encoded data removed]",
      "text/plain": [
       "<matplotlib.figure.Figure at 0x1257bff10>"
      ]
     },
     "metadata": {},
     "output_type": "display_data"
    }
   ],
   "source": [
    "x = ((statistics['availability_365']['mean'] / 365)*100).convert_objects(convert_numeric=True)\n",
    "y = statistics['price']['mean'].convert_objects(convert_numeric=True)\n",
    "\n",
    "n = (x.reset_index()).location.tolist()\n",
    "\n",
    "fig, ax = plt.subplots()\n",
    "ax.scatter(x, y, c=y,cmap ='plasma', s =200)\n",
    "\n",
    "for i, txt in benumerate(n):\n",
    "    ax.annotate(txt, (x[i],y[i]), fontsize = 10)\n",
    "    \n",
    "    \n",
    "plt.xlabel('% Availability out of last 365 days', fontsize=14)\n",
    "plt.ylabel('Price', fontsize=14)\n",
    "plt.title('Price and % Availability', fontsize=14, fontweight='bold')"
   ]
  },
  {
   "cell_type": "markdown",
   "metadata": {},
   "source": [
    "### Price and Average Rating: How does the average quality of a listing coorelate to the average price?\n",
    "The data here is very dispersed and suggests that ratings and price do not have a clear relationship. \n",
    "\n",
    "This reveals an interesting quality of Airbnb listings relative to the traditional hotel industry. Even if a user pays more or less for a listing this does not have much to do with the quality of thier stay. In the traditional hotel industry the quality of your stay is very driven by the price (hotel vs. motel). Usually the more one pays the better your stay, whereas Airbnb users can pay minimally and have a great experience (Portland) or the other way around (Boston for example, has a low rating for its average price)."
   ]
  },
  {
   "cell_type": "code",
   "execution_count": 17,
   "metadata": {
    "collapsed": false
   },
   "outputs": [
    {
     "data": {
      "text/plain": [
       "<matplotlib.text.Text at 0x12582f710>"
      ]
     },
     "execution_count": 17,
     "metadata": {},
     "output_type": "execute_result"
    },
    {
     "data": {
      "image/png": "[encoded data removed]",
      "text/plain": [
       "<matplotlib.figure.Figure at 0x11ce22050>"
      ]
     },
     "metadata": {},
     "output_type": "display_data"
    }
   ],
   "source": [
    "x = statistics['review_scores_rating']['mean'].convert_objects(convert_numeric=True)\n",
    "y = statistics['price']['mean'].convert_objects(convert_numeric=True)\n",
    "\n",
    "n = (x.reset_index()).location.tolist()\n",
    "\n",
    "fig, ax = plt.subplots()\n",
    "ax.scatter(x, y, c=y,cmap ='plasma', s =200)\n",
    "\n",
    "for i, txt in enumerate(n):\n",
    "    ax.annotate(txt, (x[i],y[i]), fontsize = 10)\n",
    "    \n",
    "    \n",
    "plt.xlabel('Average Rating', fontsize=14)\n",
    "plt.ylabel('Price', fontsize=14)\n",
    "plt.title('Price and Average Rating', fontsize=14, fontweight='bold')"
   ]
  },
  {
   "cell_type": "markdown",
   "metadata": {},
   "source": [
    "---"
   ]
  },
  {
   "cell_type": "markdown",
   "metadata": {},
   "source": [
    "# The Zillow Real Estate Data"
   ]
  },
  {
   "cell_type": "markdown",
   "metadata": {},
   "source": [
    "**TO ADD: Descriptions and Derivations of these metrics under thier titles**"
   ]
  },
  {
   "cell_type": "markdown",
   "metadata": {},
   "source": [
    "### Zillow Home Value Index (Median Home Value):"
   ]
  },
  {
   "cell_type": "code",
   "execution_count": 26,
   "metadata": {
    "collapsed": false
   },
   "outputs": [],
   "source": [
    "ZHVI = read_csv('Metro_Zhvi_Summary_AllHomes (1).csv').set_index('RegionName')\n",
    "\n",
    "\n",
    "x = ['Austin, TX', 'Boston, MA', 'Chicago, IL', 'Washington, DC', 'Denver, CO', 'Los Angeles-Long Beach-Anaheim, CA', 'Nashville, TN', 'New York, NY', 'Portland, OR', 'San Diego, CA', 'Seattle, WA', 'San Francisco, CA', 'New Orleans, LA']\n",
    "y = ['Zhvi', 'MoM', 'QoQ', 'YoY', '5Year', '10Year']\n",
    "\n",
    "ZHVI = ZHVI.loc[x , y ]"
   ]
  },
  {
   "cell_type": "markdown",
   "metadata": {},
   "source": [
    "### Difference in Median List Price and Median Sold Price in 2016:"
   ]
  },
  {
   "cell_type": "code",
   "execution_count": 27,
   "metadata": {
    "collapsed": false
   },
   "outputs": [],
   "source": [
    "median_listing_price = read_csv('Metro_MedianListingPrice_AllHomes (1).csv')\n",
    "median_listing_price = median_listing_price.set_index('RegionName')\n",
    "\n",
    "\n",
    "x = ['Austin, TX', 'Boston, MA', 'Chicago, IL', 'Washington, DC', 'Denver, CO', 'Los Angeles-Long Beach-Anaheim, CA', 'Nashville, TN', 'New York, NY', 'Portland, OR', 'San Diego, CA', 'Seattle, WA', 'San Francisco, CA', 'New Orleans, LA']\n",
    "y = ['2016-01', '2016-02', '2016-03', '2016-04', '2016-05', '2016-06', '2016-07', '2016-08', '2016-09', '2016-10']\n",
    "\n",
    "median_listing_price = median_listing_price.loc[x , y ].mean(axis =1)\n",
    "\n",
    "\n",
    "median_sold_price = read_csv('Metro_MedianSoldPrice_AllHomes.csv')\n",
    "median_sold_price = median_sold_price.set_index('RegionName')\n",
    "\n",
    "x = ['Austin, TX', 'Boston, MA', 'Chicago, IL', 'Washington, DC', 'Denver, CO', 'Los Angeles-Long Beach-Anaheim, CA', 'Nashville, TN', 'New York, NY', 'Portland, OR', 'San Diego, CA', 'Seattle, WA', 'San Francisco, CA','New Orleans, LA']\n",
    "y = ['2016-01', '2016-02', '2016-03', '2016-04', '2016-05', '2016-06']\n",
    "\n",
    "median_sold_price = median_sold_price.loc[x , y].mean(axis=1)\n",
    "\n",
    "delta = median_listing_price - median_sold_price"
   ]
  },
  {
   "cell_type": "markdown",
   "metadata": {},
   "source": [
    "### Median Income:"
   ]
  },
  {
   "cell_type": "code",
   "execution_count": 28,
   "metadata": {
    "collapsed": false,
    "scrolled": false
   },
   "outputs": [],
   "source": [
    "med_inc = read_csv('Affordability_Income_2016Q3 (1).csv').set_index('RegionName')\n",
    "\n",
    "x = ['Austin, TX', 'Boston, MA', 'Chicago, IL', 'Washington, DC', 'Denver, CO', 'Los Angeles-Long Beach-Anaheim, CA', 'Nashville, TN', 'New York, NY', 'Portland, OR', 'San Diego, CA', 'Seattle, WA', 'San Francisco, CA','New Orleans, LA']\n",
    "y1 = ['2016-01', '2016-02', '2016-03', '2016-04', '2016-05', '2016-06', '2016-07', '2016-08', '2016-09', '2016-10']\n",
    "\n",
    "#median income 2016\n",
    "med_inc_2016 = med_inc.loc[x, y1].mean(axis=1)\n",
    "med_inc_2016\n",
    "\n",
    "#percent increase in median income since 2000\n",
    "y2 = ['2000-01', '2000-02', '2000-03', '2000-04', '2000-05', '2000-06', '2000-07', '2000-08', '2000-09', '2000-10']\n",
    "med_inc_2000 = med_inc.loc[x, y2].mean(axis=1)\n",
    "\n",
    "inc_med_inc = (med_inc_2016 - med_inc_2000) / med_inc_2000"
   ]
  },
  {
   "cell_type": "markdown",
   "metadata": {},
   "source": [
    "### Price to Rent Ratio:"
   ]
  },
  {
   "cell_type": "code",
   "execution_count": 29,
   "metadata": {
    "collapsed": false
   },
   "outputs": [],
   "source": [
    "price_to_rent = read_csv('Metro_PriceToRentRatio_AllHomes.csv').set_index('RegionName')\n",
    "\n",
    "x = ['Austin, TX', 'Boston, MA', 'Chicago, IL', 'Washington, DC', 'Denver, CO', 'Los Angeles-Long Beach-Anaheim, CA', 'Nashville, TN', 'New York, NY', 'Portland, OR', 'San Diego, CA', 'Seattle, WA', 'San Francisco, CA','New Orleans, LA']\n",
    "y = ['2016-01', '2016-02', '2016-03', '2016-04', '2016-05', '2016-06', '2016-07', '2016-08', '2016-09', '2016-10']\n",
    "\n",
    "price_to_rent = price_to_rent.loc[x, y].mean(axis=1)"
   ]
  },
  {
   "cell_type": "markdown",
   "metadata": {},
   "source": [
    "### % Homes with Increasing Value:"
   ]
  },
  {
   "cell_type": "code",
   "execution_count": 30,
   "metadata": {
    "collapsed": false
   },
   "outputs": [],
   "source": [
    "incr_val = read_csv('Metro_PctOfHomesIncreasingInValues_AllHomes.csv').set_index('RegionName')\n",
    "\n",
    "x = ['Austin, TX', 'Boston, MA', 'Chicago, IL', 'Washington, DC', 'Denver, CO', 'Los Angeles-Long Beach-Anaheim, CA', 'Nashville, TN', 'New York, NY', 'Portland, OR', 'San Diego, CA', 'Seattle, WA', 'San Francisco, CA','New Orleans, LA']\n",
    "y = ['2016-01', '2016-02', '2016-03', '2016-04', '2016-05', '2016-06', '2016-07', '2016-08', '2016-09', '2016-10']\n",
    "\n",
    "incr_val = incr_val.loc[x, y].mean(axis=1)"
   ]
  },
  {
   "cell_type": "markdown",
   "metadata": {},
   "source": [
    "**Putting all the data into one Dataframe for coorelation analysis:**"
   ]
  },
  {
   "cell_type": "code",
   "execution_count": 31,
   "metadata": {
    "collapsed": false
   },
   "outputs": [
    {
     "data": {
      "text/html": [
       "<div>\n",
       "<table border=\"1\" class=\"dataframe\">\n",
       "  <thead>\n",
       "    <tr style=\"text-align: right;\">\n",
       "      <th></th>\n",
       "      <th>ZHVI</th>\n",
       "      <th>ZHVI_MoM</th>\n",
       "      <th>ZHVI_QoQ</th>\n",
       "      <th>ZHVI_YoY</th>\n",
       "      <th>ZHVI_5Year</th>\n",
       "      <th>ZHVI_10Year</th>\n",
       "      <th>List_Less_Sold_Price</th>\n",
       "      <th>Median_Income_2016</th>\n",
       "      <th>Perc_Change_Income_2000</th>\n",
       "      <th>Price_To_Rent_Ratio</th>\n",
       "      <th>Percent_Increasing_Value</th>\n",
       "    </tr>\n",
       "    <tr>\n",
       "      <th>RegionName</th>\n",
       "      <th></th>\n",
       "      <th></th>\n",
       "      <th></th>\n",
       "      <th></th>\n",
       "      <th></th>\n",
       "      <th></th>\n",
       "      <th></th>\n",
       "      <th></th>\n",
       "      <th></th>\n",
       "      <th></th>\n",
       "      <th></th>\n",
       "    </tr>\n",
       "  </thead>\n",
       "  <tbody>\n",
       "    <tr>\n",
       "      <th>Austin, TX</th>\n",
       "      <td>258600.0</td>\n",
       "      <td>0.002714</td>\n",
       "      <td>0.012133</td>\n",
       "      <td>0.083822</td>\n",
       "      <td>0.082968</td>\n",
       "      <td>0.039407</td>\n",
       "      <td>NaN</td>\n",
       "      <td>68131.602926</td>\n",
       "      <td>0.351407</td>\n",
       "      <td>11.925</td>\n",
       "      <td>NaN</td>\n",
       "    </tr>\n",
       "    <tr>\n",
       "      <th>Boston, MA</th>\n",
       "      <td>405200.0</td>\n",
       "      <td>0.007209</td>\n",
       "      <td>0.019115</td>\n",
       "      <td>0.059623</td>\n",
       "      <td>0.053598</td>\n",
       "      <td>0.010531</td>\n",
       "      <td>118293.333333</td>\n",
       "      <td>80468.539537</td>\n",
       "      <td>0.411074</td>\n",
       "      <td>14.437</td>\n",
       "      <td>82.366</td>\n",
       "    </tr>\n",
       "    <tr>\n",
       "      <th>Chicago, IL</th>\n",
       "      <td>202100.0</td>\n",
       "      <td>0.003974</td>\n",
       "      <td>0.013033</td>\n",
       "      <td>0.046066</td>\n",
       "      <td>0.034833</td>\n",
       "      <td>-0.019305</td>\n",
       "      <td>21785.000000</td>\n",
       "      <td>64620.005986</td>\n",
       "      <td>0.242379</td>\n",
       "      <td>9.914</td>\n",
       "      <td>63.373</td>\n",
       "    </tr>\n",
       "    <tr>\n",
       "      <th>Washington, DC</th>\n",
       "      <td>375900.0</td>\n",
       "      <td>0.004275</td>\n",
       "      <td>0.011572</td>\n",
       "      <td>0.026488</td>\n",
       "      <td>0.037900</td>\n",
       "      <td>-0.010914</td>\n",
       "      <td>26227.066667</td>\n",
       "      <td>94754.805822</td>\n",
       "      <td>0.439145</td>\n",
       "      <td>14.515</td>\n",
       "      <td>59.899</td>\n",
       "    </tr>\n",
       "    <tr>\n",
       "      <th>Denver, CO</th>\n",
       "      <td>350400.0</td>\n",
       "      <td>0.007476</td>\n",
       "      <td>0.023066</td>\n",
       "      <td>0.101887</td>\n",
       "      <td>0.102926</td>\n",
       "      <td>0.040802</td>\n",
       "      <td>82689.033333</td>\n",
       "      <td>72001.123514</td>\n",
       "      <td>0.354632</td>\n",
       "      <td>13.725</td>\n",
       "      <td>95.589</td>\n",
       "    </tr>\n",
       "    <tr>\n",
       "      <th>Los Angeles-Long Beach-Anaheim, CA</th>\n",
       "      <td>584700.0</td>\n",
       "      <td>0.005157</td>\n",
       "      <td>0.014752</td>\n",
       "      <td>0.059815</td>\n",
       "      <td>0.083031</td>\n",
       "      <td>-0.002961</td>\n",
       "      <td>73319.800000</td>\n",
       "      <td>64286.115415</td>\n",
       "      <td>0.355526</td>\n",
       "      <td>17.810</td>\n",
       "      <td>81.653</td>\n",
       "    </tr>\n",
       "    <tr>\n",
       "      <th>Nashville, TN</th>\n",
       "      <td>202400.0</td>\n",
       "      <td>0.012000</td>\n",
       "      <td>0.031600</td>\n",
       "      <td>0.114537</td>\n",
       "      <td>0.066053</td>\n",
       "      <td>0.027840</td>\n",
       "      <td>87926.100000</td>\n",
       "      <td>59763.562352</td>\n",
       "      <td>0.340350</td>\n",
       "      <td>11.201</td>\n",
       "      <td>89.789</td>\n",
       "    </tr>\n",
       "    <tr>\n",
       "      <th>New York, NY</th>\n",
       "      <td>398000.0</td>\n",
       "      <td>0.005558</td>\n",
       "      <td>0.023136</td>\n",
       "      <td>0.057386</td>\n",
       "      <td>0.029412</td>\n",
       "      <td>-0.011078</td>\n",
       "      <td>48075.600000</td>\n",
       "      <td>70104.693972</td>\n",
       "      <td>0.336953</td>\n",
       "      <td>12.786</td>\n",
       "      <td>65.562</td>\n",
       "    </tr>\n",
       "    <tr>\n",
       "      <th>Portland, OR</th>\n",
       "      <td>349500.0</td>\n",
       "      <td>0.009241</td>\n",
       "      <td>0.029455</td>\n",
       "      <td>0.146277</td>\n",
       "      <td>0.101233</td>\n",
       "      <td>0.020504</td>\n",
       "      <td>42356.666667</td>\n",
       "      <td>65619.925212</td>\n",
       "      <td>0.365365</td>\n",
       "      <td>15.089</td>\n",
       "      <td>97.333</td>\n",
       "    </tr>\n",
       "    <tr>\n",
       "      <th>San Diego, CA</th>\n",
       "      <td>524900.0</td>\n",
       "      <td>0.004017</td>\n",
       "      <td>0.015084</td>\n",
       "      <td>0.064058</td>\n",
       "      <td>0.086299</td>\n",
       "      <td>-0.000266</td>\n",
       "      <td>86740.000000</td>\n",
       "      <td>68925.547781</td>\n",
       "      <td>0.393024</td>\n",
       "      <td>17.303</td>\n",
       "      <td>82.300</td>\n",
       "    </tr>\n",
       "    <tr>\n",
       "      <th>Seattle, WA</th>\n",
       "      <td>409900.0</td>\n",
       "      <td>0.008364</td>\n",
       "      <td>0.023215</td>\n",
       "      <td>0.122091</td>\n",
       "      <td>0.093059</td>\n",
       "      <td>0.011144</td>\n",
       "      <td>16418.833333</td>\n",
       "      <td>77351.458702</td>\n",
       "      <td>0.478889</td>\n",
       "      <td>15.689</td>\n",
       "      <td>96.677</td>\n",
       "    </tr>\n",
       "    <tr>\n",
       "      <th>San Francisco, CA</th>\n",
       "      <td>821800.0</td>\n",
       "      <td>0.005137</td>\n",
       "      <td>0.015445</td>\n",
       "      <td>0.053725</td>\n",
       "      <td>0.113260</td>\n",
       "      <td>0.017017</td>\n",
       "      <td>65464.833333</td>\n",
       "      <td>91183.453020</td>\n",
       "      <td>0.445123</td>\n",
       "      <td>19.428</td>\n",
       "      <td>84.328</td>\n",
       "    </tr>\n",
       "    <tr>\n",
       "      <th>New Orleans, LA</th>\n",
       "      <td>NaN</td>\n",
       "      <td>NaN</td>\n",
       "      <td>NaN</td>\n",
       "      <td>NaN</td>\n",
       "      <td>NaN</td>\n",
       "      <td>NaN</td>\n",
       "      <td>26059.791667</td>\n",
       "      <td>49002.313906</td>\n",
       "      <td>0.351879</td>\n",
       "      <td>NaN</td>\n",
       "      <td>NaN</td>\n",
       "    </tr>\n",
       "  </tbody>\n",
       "</table>\n",
       "</div>"
      ],
      "text/plain": [
       "                                        ZHVI  ZHVI_MoM  ZHVI_QoQ  ZHVI_YoY  \\\n",
       "RegionName                                                                   \n",
       "Austin, TX                          258600.0  0.002714  0.012133  0.083822   \n",
       "Boston, MA                          405200.0  0.007209  0.019115  0.059623   \n",
       "Chicago, IL                         202100.0  0.003974  0.013033  0.046066   \n",
       "Washington, DC                      375900.0  0.004275  0.011572  0.026488   \n",
       "Denver, CO                          350400.0  0.007476  0.023066  0.101887   \n",
       "Los Angeles-Long Beach-Anaheim, CA  584700.0  0.005157  0.014752  0.059815   \n",
       "Nashville, TN                       202400.0  0.012000  0.031600  0.114537   \n",
       "New York, NY                        398000.0  0.005558  0.023136  0.057386   \n",
       "Portland, OR                        349500.0  0.009241  0.029455  0.146277   \n",
       "San Diego, CA                       524900.0  0.004017  0.015084  0.064058   \n",
       "Seattle, WA                         409900.0  0.008364  0.023215  0.122091   \n",
       "San Francisco, CA                   821800.0  0.005137  0.015445  0.053725   \n",
       "New Orleans, LA                          NaN       NaN       NaN       NaN   \n",
       "\n",
       "                                    ZHVI_5Year  ZHVI_10Year  \\\n",
       "RegionName                                                    \n",
       "Austin, TX                            0.082968     0.039407   \n",
       "Boston, MA                            0.053598     0.010531   \n",
       "Chicago, IL                           0.034833    -0.019305   \n",
       "Washington, DC                        0.037900    -0.010914   \n",
       "Denver, CO                            0.102926     0.040802   \n",
       "Los Angeles-Long Beach-Anaheim, CA    0.083031    -0.002961   \n",
       "Nashville, TN                         0.066053     0.027840   \n",
       "New York, NY                          0.029412    -0.011078   \n",
       "Portland, OR                          0.101233     0.020504   \n",
       "San Diego, CA                         0.086299    -0.000266   \n",
       "Seattle, WA                           0.093059     0.011144   \n",
       "San Francisco, CA                     0.113260     0.017017   \n",
       "New Orleans, LA                            NaN          NaN   \n",
       "\n",
       "                                    List_Less_Sold_Price  Median_Income_2016  \\\n",
       "RegionName                                                                     \n",
       "Austin, TX                                           NaN        68131.602926   \n",
       "Boston, MA                                 118293.333333        80468.539537   \n",
       "Chicago, IL                                 21785.000000        64620.005986   \n",
       "Washington, DC                              26227.066667        94754.805822   \n",
       "Denver, CO                                  82689.033333        72001.123514   \n",
       "Los Angeles-Long Beach-Anaheim, CA          73319.800000        64286.115415   \n",
       "Nashville, TN                               87926.100000        59763.562352   \n",
       "New York, NY                                48075.600000        70104.693972   \n",
       "Portland, OR                                42356.666667        65619.925212   \n",
       "San Diego, CA                               86740.000000        68925.547781   \n",
       "Seattle, WA                                 16418.833333        77351.458702   \n",
       "San Francisco, CA                           65464.833333        91183.453020   \n",
       "New Orleans, LA                             26059.791667        49002.313906   \n",
       "\n",
       "                                    Perc_Change_Income_2000  \\\n",
       "RegionName                                                    \n",
       "Austin, TX                                         0.351407   \n",
       "Boston, MA                                         0.411074   \n",
       "Chicago, IL                                        0.242379   \n",
       "Washington, DC                                     0.439145   \n",
       "Denver, CO                                         0.354632   \n",
       "Los Angeles-Long Beach-Anaheim, CA                 0.355526   \n",
       "Nashville, TN                                      0.340350   \n",
       "New York, NY                                       0.336953   \n",
       "Portland, OR                                       0.365365   \n",
       "San Diego, CA                                      0.393024   \n",
       "Seattle, WA                                        0.478889   \n",
       "San Francisco, CA                                  0.445123   \n",
       "New Orleans, LA                                    0.351879   \n",
       "\n",
       "                                    Price_To_Rent_Ratio  \\\n",
       "RegionName                                                \n",
       "Austin, TX                                       11.925   \n",
       "Boston, MA                                       14.437   \n",
       "Chicago, IL                                       9.914   \n",
       "Washington, DC                                   14.515   \n",
       "Denver, CO                                       13.725   \n",
       "Los Angeles-Long Beach-Anaheim, CA               17.810   \n",
       "Nashville, TN                                    11.201   \n",
       "New York, NY                                     12.786   \n",
       "Portland, OR                                     15.089   \n",
       "San Diego, CA                                    17.303   \n",
       "Seattle, WA                                      15.689   \n",
       "San Francisco, CA                                19.428   \n",
       "New Orleans, LA                                     NaN   \n",
       "\n",
       "                                    Percent_Increasing_Value  \n",
       "RegionName                                                    \n",
       "Austin, TX                                               NaN  \n",
       "Boston, MA                                            82.366  \n",
       "Chicago, IL                                           63.373  \n",
       "Washington, DC                                        59.899  \n",
       "Denver, CO                                            95.589  \n",
       "Los Angeles-Long Beach-Anaheim, CA                    81.653  \n",
       "Nashville, TN                                         89.789  \n",
       "New York, NY                                          65.562  \n",
       "Portland, OR                                          97.333  \n",
       "San Diego, CA                                         82.300  \n",
       "Seattle, WA                                           96.677  \n",
       "San Francisco, CA                                     84.328  \n",
       "New Orleans, LA                                          NaN  "
      ]
     },
     "execution_count": 31,
     "metadata": {},
     "output_type": "execute_result"
    }
   ],
   "source": [
    "df_zillow = concat([ZHVI, delta, med_inc_2016, inc_med_inc, price_to_rent, incr_val], axis = 1)\n",
    "df_zillow.columns = ['ZHVI', 'ZHVI_MoM', 'ZHVI_QoQ', 'ZHVI_YoY', 'ZHVI_5Year', 'ZHVI_10Year', \n",
    "                     'List_Less_Sold_Price', 'Median_Income_2016', 'Perc_Change_Income_2000', 'Price_To_Rent_Ratio',\n",
    "                     'Percent_Increasing_Value']\n",
    "df_zillow"
   ]
  },
  {
   "cell_type": "markdown",
   "metadata": {},
   "source": [
    "---"
   ]
  },
  {
   "cell_type": "markdown",
   "metadata": {},
   "source": [
    "# Part 2: Listing Trends and the Real Estate Metrics -- Coorelation & Building a Model\n",
    "\n",
    "## Listing Trends and ZHVI:"
   ]
  },
  {
   "cell_type": "code",
   "execution_count": 50,
   "metadata": {
    "collapsed": false
   },
   "outputs": [
    {
     "data": {
      "text/plain": [
       "<matplotlib.text.Text at 0x117ec1810>"
      ]
     },
     "execution_count": 50,
     "metadata": {},
     "output_type": "execute_result"
    },
    {
     "data": {
      "image/png": "[encoded data removed]",
      "text/plain": [
       "<matplotlib.figure.Figure at 0x125580690>"
      ]
     },
     "metadata": {},
     "output_type": "display_data"
    }
   ],
   "source": [
    "df = concat([statistics['price']['mean'], ZHVI['Zhvi']], axis = 1).dropna()\n",
    "\n",
    "x = df['Zhvi']\n",
    "y = df['mean']\n",
    "\n",
    "\n",
    "n = (df.index).tolist()\n",
    "\n",
    "fig, ax = plt.subplots()\n",
    "ax.scatter(x, y, c=y,cmap ='plasma', s =200)\n",
    "\n",
    "for i, txt in enumerate(n):\n",
    "    ax.annotate(txt, (x[i],y[i]), fontsize = 10)\n",
    "    \n",
    "    \n",
    "plt.xlabel('Median Home Price', fontsize=14)\n",
    "plt.ylabel('Average Price ABNB Listing', fontsize=14)\n",
    "plt.title('Home Price(ZHVI) and Airbnb Listing Price', fontsize=14, fontweight='bold')\n"
   ]
  },
  {
   "cell_type": "code",
   "execution_count": 51,
   "metadata": {
    "collapsed": false
   },
   "outputs": [
    {
     "data": {
      "text/plain": [
       "<matplotlib.text.Text at 0x1257d4110>"
      ]
     },
     "execution_count": 51,
     "metadata": {},
     "output_type": "execute_result"
    },
    {
     "data": {
      "image/png": "[encoded data removed]",
      "text/plain": [
       "<matplotlib.figure.Figure at 0x1233e6e90>"
      ]
     },
     "metadata": {},
     "output_type": "display_data"
    }
   ],
   "source": [
    "df = concat([statistics['price']['mean'], ZHVI['5Year']], axis = 1).dropna()\n",
    "\n",
    "x = df['5Year'] *100\n",
    "y = df['mean']\n",
    "\n",
    "n = (df.index).tolist()\n",
    "\n",
    "fig, ax = plt.subplots()\n",
    "ax.scatter(x, y, c=y,cmap ='plasma', s =200)\n",
    "\n",
    "for i, txt in enumerate(n):\n",
    "    ax.annotate(txt, (x[i],y[i]), fontsize = 10)\n",
    "    \n",
    "plt.xlabel('5 Year Home Price Growth ', fontsize=14)    \n",
    "plt.ylabel('Average Price ABNB Listing', fontsize=14)\n",
    "plt.title('Home Price Growth, 5 Years and ABNB Listing Price', fontsize=14, fontweight='bold')"
   ]
  },
  {
   "cell_type": "markdown",
   "metadata": {},
   "source": [
    "**TO ADD: Listing Trends and Other Real Estate Metrics**"
   ]
  },
  {
   "cell_type": "markdown",
   "metadata": {},
   "source": [
    "**TO ADD: Coorelation graph between airbnb variables and real estate variable**"
   ]
  },
  {
   "cell_type": "markdown",
   "metadata": {},
   "source": [
    "---\n",
    "# Part 3: Creating Indices and ZHVI Prediction Model"
   ]
  },
  {
   "cell_type": "markdown",
   "metadata": {},
   "source": [
    "## a) Metrics of Interest & Indices\n",
    "   1) **Value Index:** This is a index that captures the 'value' of a listing given its price. Value is measured in terms of the size of the listing (average # accommodates, bedrooms, bathrooms). The higher the index the better the value.\n",
    "    \n",
    "   2) **Popularity Index:** This index measures the popularity of listings using the average number of reviews and availability of listings as indicators that a listing is popular. The higher the index, the more popular a listing. \n",
    "\n",
    "   3) **Ratings Index:** A sum of the average overall rating, value rating and accuracy ratign for listings. The value rating us the users measure of the value of a listing. The accuracy rating captures the users measure of the accuracy of the listing given the host's description. The higher the sum of ratings, the better the listing was reviewed.\n",
    "\n",
    "   4) **Average Price**"
   ]
  },
  {
   "cell_type": "markdown",
   "metadata": {},
   "source": [
    "### Value Index"
   ]
  },
  {
   "cell_type": "code",
   "execution_count": 40,
   "metadata": {
    "collapsed": false
   },
   "outputs": [],
   "source": [
    "# Avg number of people accomodated per listing in each city\n",
    "accom = statistics['accommodates']['mean']\n",
    "\n",
    "# Avg size of the listing in each city\n",
    "# Sum of bedrooms and bathrooms\n",
    "size = statistics['bedrooms']['mean'] + statistics['bathrooms']['mean']\n",
    "\n",
    "value_index = (accom + size) / statistics['price']['mean'] "
   ]
  },
  {
   "cell_type": "markdown",
   "metadata": {},
   "source": [
    "### Popularity Index"
   ]
  },
  {
   "cell_type": "code",
   "execution_count": 41,
   "metadata": {
    "collapsed": false
   },
   "outputs": [],
   "source": [
    "# Percent Unavailable, the higher the %, the more popular a city\n",
    "percent_unavail = ((365 - statistics['availability_365']['mean']) / 365)*100\n",
    "\n",
    "# Mean # of Reviews per city\n",
    "mean_reviews = statistics['number_of_reviews']['mean']\n",
    "\n",
    "# Popularity Index = % Unavailable * Mean # Reviews (divided by 1000 for scale)\n",
    "# The higher the index more reviews, more unavailable, more popular the city\n",
    "pop_index = percent_unavail * mean_reviews / 1000"
   ]
  },
  {
   "cell_type": "markdown",
   "metadata": {},
   "source": [
    "### Rating Index"
   ]
  },
  {
   "cell_type": "code",
   "execution_count": 42,
   "metadata": {
    "collapsed": false
   },
   "outputs": [],
   "source": [
    "#Guest Listing Rating\n",
    "mean_rating = statistics['review_scores_rating']['mean'].convert_objects(convert_numeric=True)\n",
    "\n",
    "#Guest Reviews the Accuracy of Listing\n",
    "mean_accuracy_rating = statistics['review_scores_accuracy']['mean'].convert_objects(convert_numeric=True)\n",
    "\n",
    "# Guest Reviews Value of Listing\n",
    "value_rating = statistics['review_scores_value']['mean'].convert_objects(convert_numeric=True)\n",
    "\n",
    "# Rating index is the sum of the avg. of three ratings for each city\n",
    "# Divided by the sum highest possible scores = 100 + 10 + 10 = 120\n",
    "# Higher the Rating index, the better the stay in each city\n",
    "rating_index = (mean_rating + mean_accuracy_rating + value_rating) / 120"
   ]
  },
  {
   "cell_type": "markdown",
   "metadata": {},
   "source": [
    "### Average Price"
   ]
  },
  {
   "cell_type": "code",
   "execution_count": 43,
   "metadata": {
    "collapsed": false
   },
   "outputs": [],
   "source": [
    "avg_price = statistics['price']['mean']"
   ]
  },
  {
   "cell_type": "markdown",
   "metadata": {},
   "source": [
    "**Putting all indices into one dataframe:**"
   ]
  },
  {
   "cell_type": "code",
   "execution_count": 44,
   "metadata": {
    "collapsed": false
   },
   "outputs": [
    {
     "data": {
      "text/html": [
       "<div>\n",
       "<table border=\"1\" class=\"dataframe\">\n",
       "  <thead>\n",
       "    <tr style=\"text-align: right;\">\n",
       "      <th></th>\n",
       "      <th>Value Index</th>\n",
       "      <th>Popularity Index</th>\n",
       "      <th>Rating Index</th>\n",
       "      <th>Average Price</th>\n",
       "    </tr>\n",
       "    <tr>\n",
       "      <th>location</th>\n",
       "      <th></th>\n",
       "      <th></th>\n",
       "      <th></th>\n",
       "      <th></th>\n",
       "    </tr>\n",
       "  </thead>\n",
       "  <tbody>\n",
       "    <tr>\n",
       "      <th>Austin, TX</th>\n",
       "      <td>0.032857</td>\n",
       "      <td>0.281731</td>\n",
       "      <td>0.954146</td>\n",
       "      <td>231.503207</td>\n",
       "    </tr>\n",
       "    <tr>\n",
       "      <th>Boston, MA</th>\n",
       "      <td>0.032642</td>\n",
       "      <td>0.968686</td>\n",
       "      <td>0.920971</td>\n",
       "      <td>169.072768</td>\n",
       "    </tr>\n",
       "    <tr>\n",
       "      <th>Washington, DC</th>\n",
       "      <td>0.039779</td>\n",
       "      <td>0.542226</td>\n",
       "      <td>0.935753</td>\n",
       "      <td>142.323251</td>\n",
       "    </tr>\n",
       "    <tr>\n",
       "      <th>Denver, CO</th>\n",
       "      <td>0.051013</td>\n",
       "      <td>0.863656</td>\n",
       "      <td>0.959960</td>\n",
       "      <td>128.392957</td>\n",
       "    </tr>\n",
       "    <tr>\n",
       "      <th>Los Angeles-Long Beach-Anaheim, CA</th>\n",
       "      <td>0.041612</td>\n",
       "      <td>0.658156</td>\n",
       "      <td>0.938389</td>\n",
       "      <td>146.567610</td>\n",
       "    </tr>\n",
       "    <tr>\n",
       "      <th>Nashville, TN</th>\n",
       "      <td>0.045308</td>\n",
       "      <td>1.016340</td>\n",
       "      <td>0.962762</td>\n",
       "      <td>188.836252</td>\n",
       "    </tr>\n",
       "    <tr>\n",
       "      <th>New York, NY</th>\n",
       "      <td>0.036105</td>\n",
       "      <td>0.826225</td>\n",
       "      <td>0.925712</td>\n",
       "      <td>140.057827</td>\n",
       "    </tr>\n",
       "    <tr>\n",
       "      <th>Portland, OR</th>\n",
       "      <td>0.053899</td>\n",
       "      <td>1.524698</td>\n",
       "      <td>0.958531</td>\n",
       "      <td>110.508041</td>\n",
       "    </tr>\n",
       "    <tr>\n",
       "      <th>San Diego, CA</th>\n",
       "      <td>0.039423</td>\n",
       "      <td>0.627646</td>\n",
       "      <td>0.945264</td>\n",
       "      <td>183.789750</td>\n",
       "    </tr>\n",
       "    <tr>\n",
       "      <th>Seattle, WA</th>\n",
       "      <td>0.046315</td>\n",
       "      <td>0.732017</td>\n",
       "      <td>0.946899</td>\n",
       "      <td>127.747708</td>\n",
       "    </tr>\n",
       "    <tr>\n",
       "      <th>San Francisco, CA</th>\n",
       "      <td>0.028365</td>\n",
       "      <td>1.195092</td>\n",
       "      <td>0.940788</td>\n",
       "      <td>208.376430</td>\n",
       "    </tr>\n",
       "    <tr>\n",
       "      <th>New Orleans, LA</th>\n",
       "      <td>0.042764</td>\n",
       "      <td>1.027661</td>\n",
       "      <td>0.951781</td>\n",
       "      <td>172.031998</td>\n",
       "    </tr>\n",
       "  </tbody>\n",
       "</table>\n",
       "</div>"
      ],
      "text/plain": [
       "                                    Value Index  Popularity Index  \\\n",
       "location                                                            \n",
       "Austin, TX                             0.032857          0.281731   \n",
       "Boston, MA                             0.032642          0.968686   \n",
       "Washington, DC                         0.039779          0.542226   \n",
       "Denver, CO                             0.051013          0.863656   \n",
       "Los Angeles-Long Beach-Anaheim, CA     0.041612          0.658156   \n",
       "Nashville, TN                          0.045308          1.016340   \n",
       "New York, NY                           0.036105          0.826225   \n",
       "Portland, OR                           0.053899          1.524698   \n",
       "San Diego, CA                          0.039423          0.627646   \n",
       "Seattle, WA                            0.046315          0.732017   \n",
       "San Francisco, CA                      0.028365          1.195092   \n",
       "New Orleans, LA                        0.042764          1.027661   \n",
       "\n",
       "                                    Rating Index  Average Price  \n",
       "location                                                         \n",
       "Austin, TX                              0.954146     231.503207  \n",
       "Boston, MA                              0.920971     169.072768  \n",
       "Washington, DC                          0.935753     142.323251  \n",
       "Denver, CO                              0.959960     128.392957  \n",
       "Los Angeles-Long Beach-Anaheim, CA      0.938389     146.567610  \n",
       "Nashville, TN                           0.962762     188.836252  \n",
       "New York, NY                            0.925712     140.057827  \n",
       "Portland, OR                            0.958531     110.508041  \n",
       "San Diego, CA                           0.945264     183.789750  \n",
       "Seattle, WA                             0.946899     127.747708  \n",
       "San Francisco, CA                       0.940788     208.376430  \n",
       "New Orleans, LA                         0.951781     172.031998  "
      ]
     },
     "execution_count": 44,
     "metadata": {},
     "output_type": "execute_result"
    }
   ],
   "source": [
    "df_metrics = concat([value_index, pop_index, rating_index, avg_price], axis = 1)\n",
    "df_metrics.columns = ['Value Index', 'Popularity Index', 'Rating Index', 'Average Price']\n",
    "df_metrics"
   ]
  },
  {
   "cell_type": "markdown",
   "metadata": {},
   "source": [
    "## b)  Indices and the ZHVI"
   ]
  },
  {
   "cell_type": "markdown",
   "metadata": {},
   "source": [
    "**TO ADD: Descriptions of relationships below graph headings below**"
   ]
  },
  {
   "cell_type": "markdown",
   "metadata": {},
   "source": [
    "### The Popularity Index and ZHVI"
   ]
  },
  {
   "cell_type": "code",
   "execution_count": 64,
   "metadata": {
    "collapsed": false
   },
   "outputs": [
    {
     "data": {
      "text/plain": [
       "(0.2, 1.6)"
      ]
     },
     "execution_count": 64,
     "metadata": {},
     "output_type": "execute_result"
    },
    {
     "data": {
      "image/png": "[encoded data removed]",
      "text/plain": [
       "<matplotlib.figure.Figure at 0x11942b3d0>"
      ]
     },
     "metadata": {},
     "output_type": "display_data"
    }
   ],
   "source": [
    "df = concat([pop_index, ZHVI['Zhvi']], axis = 1).dropna()\n",
    "\n",
    "x = df['Zhvi']\n",
    "y = df['mean']\n",
    "\n",
    "n = (df.index).tolist()\n",
    "\n",
    "fig, ax = plt.subplots()\n",
    "ax.scatter(x, y, c=y,cmap ='plasma', s =200)\n",
    "\n",
    "for i, txt in enumerate(n):\n",
    "    ax.annotate(txt, (x[i],y[i]), fontsize = 10)\n",
    "    \n",
    "plt.xlabel('Median Home Price', fontsize=14)    \n",
    "plt.ylabel('Popularity Index', fontsize=14)\n",
    "plt.title('Home Price(ZHVI) and Popularity Index', fontsize=14, fontweight='bold')\n",
    "plt.ylim(.2,1.6)"
   ]
  },
  {
   "cell_type": "markdown",
   "metadata": {},
   "source": [
    "### The Value Index and ZHVI"
   ]
  },
  {
   "cell_type": "code",
   "execution_count": 61,
   "metadata": {
    "collapsed": false
   },
   "outputs": [
    {
     "data": {
      "text/plain": [
       "(0.025, 0.055)"
      ]
     },
     "execution_count": 61,
     "metadata": {},
     "output_type": "execute_result"
    },
    {
     "data": {
      "image/png": "[encoded data removed]",
      "text/plain": [
       "<matplotlib.figure.Figure at 0x1258d1190>"
      ]
     },
     "metadata": {},
     "output_type": "display_data"
    }
   ],
   "source": [
    "df = concat([value_index, ZHVI['Zhvi']], axis = 1).dropna()\n",
    "\n",
    "x = df['Zhvi']\n",
    "y = df['mean']\n",
    "\n",
    "n = (df.index).tolist()\n",
    "\n",
    "fig, ax = plt.subplots()\n",
    "ax.scatter(x, y, c=y,cmap ='plasma', s =200)\n",
    "\n",
    "for i, txt in enumerate(n):\n",
    "    ax.annotate(txt, (x[i],y[i]), fontsize = 10)\n",
    "    \n",
    "plt.xlabel('Median Home Price', fontsize=14)    \n",
    "plt.ylabel('Value Index', fontsize=14)\n",
    "plt.title('Home Price(ZHVI) and Value Index', fontsize=14, fontweight='bold')\n",
    "plt.ylim(.025,.055)"
   ]
  },
  {
   "cell_type": "markdown",
   "metadata": {},
   "source": [
    "### The Rating Index and ZHVI"
   ]
  },
  {
   "cell_type": "code",
   "execution_count": 63,
   "metadata": {
    "collapsed": false
   },
   "outputs": [
    {
     "data": {
      "text/plain": [
       "(0.915, 0.97)"
      ]
     },
     "execution_count": 63,
     "metadata": {},
     "output_type": "execute_result"
    },
    {
     "data": {
      "image/png": "[encoded data removed]",
      "text/plain": [
       "<matplotlib.figure.Figure at 0x117e70550>"
      ]
     },
     "metadata": {},
     "output_type": "display_data"
    }
   ],
   "source": [
    "df = concat([rating_index, ZHVI['Zhvi']], axis = 1).dropna()\n",
    "\n",
    "x = df['Zhvi']\n",
    "y = df['mean']\n",
    "\n",
    "\n",
    "n = (df.index).tolist()\n",
    "\n",
    "fig, ax = plt.subplots()\n",
    "ax.scatter(x, y, c=y,cmap ='plasma', s =200)\n",
    "\n",
    "for i, txt in enumerate(n):\n",
    "    ax.annotate(txt, (x[i],y[i]), fontsize = 10)\n",
    "    \n",
    "plt.xlabel('Median Home Price', fontsize=14)   \n",
    "plt.ylabel('Rating Index', fontsize=14)\n",
    "plt.title('Home Price(ZHVI) and Rating Index', fontsize=14, fontweight='bold')\n",
    "plt.ylim(.915, .97)"
   ]
  },
  {
   "cell_type": "markdown",
   "metadata": {},
   "source": [
    "**TO ADD: Mean Price vs. ZHVI analysis (was plotted in part 2)**"
   ]
  },
  {
   "cell_type": "markdown",
   "metadata": {},
   "source": [
    "## c) Regression Model for Predicting Indices and Average Price using the ZHVI"
   ]
  },
  {
   "cell_type": "markdown",
   "metadata": {},
   "source": [
    "**TO ADD: Regression Model**"
   ]
  },
  {
   "cell_type": "markdown",
   "metadata": {},
   "source": [
    "---\n",
    "# Part 4: Takeaways for Airbnb"
   ]
  },
  {
   "cell_type": "markdown",
   "metadata": {},
   "source": [
    "**TO ADD: Charts that summarize main takeaways**\n",
    "**TO ADD: Charts tha summarize further investigations**"
   ]
  },
  {
   "cell_type": "code",
   "execution_count": null,
   "metadata": {
    "collapsed": true
   },
   "outputs": [],
   "source": []
  }
 ],
 "metadata": {
  "anaconda-cloud": {},
  "kernelspec": {
   "display_name": "Python [Root]",
   "language": "python",
   "name": "Python [Root]"
  },
  "language_info": {
   "codemirror_mode": {
    "name": "ipython",
    "version": 2
   },
   "file_extension": ".py",
   "mimetype": "text/x-python",
   "name": "python",
   "nbconvert_exporter": "python",
   "pygments_lexer": "ipython2",
   "version": "2.7.12"
  }
 },
 "nbformat": 4,
 "nbformat_minor": 0
}
