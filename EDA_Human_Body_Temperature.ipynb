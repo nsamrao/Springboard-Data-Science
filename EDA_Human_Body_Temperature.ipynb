{
 "cells": [
  {
   "cell_type": "markdown",
   "metadata": {},
   "source": [
    "# What is the True Normal Human Body Temperature? \n",
    "\n",
    "#### Background\n",
    "\n",
    "The mean normal body temperature was held to be 37$^{\\circ}$C or 98.6$^{\\circ}$F for more than 120 years since it was first conceptualized and reported by Carl Wunderlich in a famous 1868 book. But, is this value statistically correct?"
   ]
  },
  {
   "cell_type": "markdown",
   "metadata": {},
   "source": [
    "<div class=\"span5 alert alert-info\">\n",
    "<h3>Exercises</h3>\n",
    "\n",
    "<p>In this exercise, you will analyze a dataset of human body temperatures and employ the concepts of hypothesis testing, confidence intervals, and statistical significance.</p>\n",
    "\n",
    "<p>Answer the following questions <b>in this notebook below and submit to your Github account</b>.</p> \n",
    "\n",
    "<ol>\n",
    "<li>  Is the distribution of body temperatures normal? \n",
    "    <ul>\n",
    "    <li> Although this is not a requirement for CLT to hold (read CLT carefully), it gives us some peace of mind that the population may also be normally distributed if we assume that this sample is representative of the population.\n",
    "    </ul>\n",
    "<li>  Is the sample size large? Are the observations independent?\n",
    "    <ul>\n",
    "    <li> Remember that this is a condition for the CLT, and hence the statistical tests we are using, to apply.\n",
    "    </ul>\n",
    "<li>  Is the true population mean really 98.6 degrees F?\n",
    "    <ul>\n",
    "    <li> Would you use a one-sample or two-sample test? Why?\n",
    "    <li> In this situation, is it appropriate to use the $t$ or $z$ statistic? \n",
    "    <li> Now try using the other test. How is the result be different? Why?\n",
    "    </ul>\n",
    "<li>  At what temperature should we consider someone's temperature to be \"abnormal\"?\n",
    "    <ul>\n",
    "    <li> Start by computing the margin of error and confidence interval.\n",
    "    </ul>\n",
    "<li>  Is there a significant difference between males and females in normal temperature?\n",
    "    <ul>\n",
    "    <li> What test did you use and why?\n",
    "    <li> Write a story with your conclusion in the context of the original problem.\n",
    "    </ul>\n",
    "</ol>\n",
    "\n",
    "You can include written notes in notebook cells using Markdown: \n",
    "   - In the control panel at the top, choose Cell > Cell Type > Markdown\n",
    "   - Markdown syntax: http://nestacms.com/docs/creating-content/markdown-cheat-sheet\n",
    "\n",
    "#### Resources\n",
    "\n",
    "+ Information and data sources: http://www.amstat.org/publications/jse/datasets/normtemp.txt, http://www.amstat.org/publications/jse/jse_data_archive.htm\n",
    "+ Markdown syntax: http://nestacms.com/docs/creating-content/markdown-cheat-sheet\n",
    "\n",
    "****"
   ]
  },
  {
   "cell_type": "code",
   "execution_count": 74,
   "metadata": {
    "collapsed": true
   },
   "outputs": [],
   "source": [
    "import pandas as pd\n",
    "import matplotlib\n",
    "import math\n",
    "%matplotlib inline \n",
    "\n",
    "df = pd.read_csv('data/human_body_temperature.csv')"
   ]
  },
  {
   "cell_type": "code",
   "execution_count": 75,
   "metadata": {
    "collapsed": false
   },
   "outputs": [
    {
     "data": {
      "text/html": [
       "<div>\n",
       "<table border=\"1\" class=\"dataframe\">\n",
       "  <thead>\n",
       "    <tr style=\"text-align: right;\">\n",
       "      <th></th>\n",
       "      <th>temperature</th>\n",
       "      <th>gender</th>\n",
       "      <th>heart_rate</th>\n",
       "    </tr>\n",
       "  </thead>\n",
       "  <tbody>\n",
       "    <tr>\n",
       "      <th>0</th>\n",
       "      <td>99.3</td>\n",
       "      <td>F</td>\n",
       "      <td>68.0</td>\n",
       "    </tr>\n",
       "    <tr>\n",
       "      <th>1</th>\n",
       "      <td>98.4</td>\n",
       "      <td>F</td>\n",
       "      <td>81.0</td>\n",
       "    </tr>\n",
       "    <tr>\n",
       "      <th>2</th>\n",
       "      <td>97.8</td>\n",
       "      <td>M</td>\n",
       "      <td>73.0</td>\n",
       "    </tr>\n",
       "    <tr>\n",
       "      <th>3</th>\n",
       "      <td>99.2</td>\n",
       "      <td>F</td>\n",
       "      <td>66.0</td>\n",
       "    </tr>\n",
       "    <tr>\n",
       "      <th>4</th>\n",
       "      <td>98.0</td>\n",
       "      <td>F</td>\n",
       "      <td>73.0</td>\n",
       "    </tr>\n",
       "  </tbody>\n",
       "</table>\n",
       "</div>"
      ],
      "text/plain": [
       "   temperature gender  heart_rate\n",
       "0         99.3      F        68.0\n",
       "1         98.4      F        81.0\n",
       "2         97.8      M        73.0\n",
       "3         99.2      F        66.0\n",
       "4         98.0      F        73.0"
      ]
     },
     "execution_count": 75,
     "metadata": {},
     "output_type": "execute_result"
    }
   ],
   "source": [
    "df.head()"
   ]
  },
  {
   "cell_type": "markdown",
   "metadata": {},
   "source": [
    "***1. Is the distribution of body temperatures normal?***\n",
    "---"
   ]
  },
  {
   "cell_type": "code",
   "execution_count": 5,
   "metadata": {
    "collapsed": false
   },
   "outputs": [
    {
     "data": {
      "text/plain": [
       "<matplotlib.axes._subplots.AxesSubplot at 0x1123e9690>"
      ]
     },
     "execution_count": 5,
     "metadata": {},
     "output_type": "execute_result"
    },
    {
     "data": {
      "image/png": "[encoded data removed]",
      "text/plain": [
       "<matplotlib.figure.Figure at 0x11488ebd0>"
      ]
     },
     "metadata": {},
     "output_type": "display_data"
    }
   ],
   "source": [
    "df1 = df['temperature']\n",
    "df1.plot.hist(bins = 20)"
   ]
  },
  {
   "cell_type": "markdown",
   "metadata": {},
   "source": [
    "I am testing normality by plotting the body temperature data as a histogram. The data should be bell-shaped and resemble the normal distribution.\n",
    "\n",
    "**The data appears to satisfy this critera and is approx. normal.**"
   ]
  },
  {
   "cell_type": "markdown",
   "metadata": {},
   "source": [
    "***2. Is the sample size large? Are the observations independent?***\n",
    "---"
   ]
  },
  {
   "cell_type": "code",
   "execution_count": 21,
   "metadata": {
    "collapsed": false,
    "scrolled": true
   },
   "outputs": [
    {
     "name": "stdout",
     "output_type": "stream",
     "text": [
      "# of observations = 130\n"
     ]
    }
   ],
   "source": [
    "print '# of observations =', len(df)"
   ]
  },
  {
   "cell_type": "markdown",
   "metadata": {},
   "source": [
    "**Large sample size** because there are more than 30 observations. \n",
    "\n",
    "According to information about the data contains **130 distinct observations.**"
   ]
  },
  {
   "cell_type": "markdown",
   "metadata": {},
   "source": [
    "***3. Is the true population mean really 98.6 degrees F?***\n",
    "---"
   ]
  },
  {
   "cell_type": "markdown",
   "metadata": {},
   "source": [
    "   Null Hypothesis (H0) :  Mean of Temp. = 98.6\n",
    "   \n",
    "   Alternative Hypothese (HA) :  Mean of Temp.  != 98.6\n",
    "   \n",
    "   *Alpha = .05*"
   ]
  },
  {
   "cell_type": "code",
   "execution_count": 36,
   "metadata": {
    "collapsed": false
   },
   "outputs": [
    {
     "name": "stdout",
     "output_type": "stream",
     "text": [
      "t statistic =  -5.45482329236 98.2492307692 0.733183158039\n"
     ]
    }
   ],
   "source": [
    "sample_mean = df1.mean()\n",
    "population_mean = 98.6\n",
    "sample_std = df1.std()\n",
    "n = 130\n",
    "\n",
    "t = (sample_mean - population_mean) / (sample_std / (math.sqrt(n)) )\n",
    "\n",
    "print 't statistic = ',t, sample_mean, sample_std"
   ]
  },
  {
   "cell_type": "markdown",
   "metadata": {},
   "source": [
    "With an **Alpha = .05**, the t statistic of the distribution must be within **1.979** standard devations of the popoulation mean to accept the null hypothesis according to the t-table.\n",
    "\n",
    "    The sample mean in this example is 5.45 standard devations away.\n",
    "\n",
    "Therefore we reject the null hypothesis that the mean temperature is 98.6 and accept the alternative hypothesis."
   ]
  },
  {
   "cell_type": "markdown",
   "metadata": {},
   "source": [
    "Use a **one sample test** because you are not comparing the difference between two populations but rather trying to make observations about the population test statistic from the sample. \n",
    "\n",
    "Will use a **t-test** because although there are more than 30 observations and therefore the data can be considered to be normally distributed the popoulation standard deviation is unknown.\n",
    "\n",
    "z-Test:"
   ]
  },
  {
   "cell_type": "code",
   "execution_count": 30,
   "metadata": {
    "collapsed": false
   },
   "outputs": [
    {
     "name": "stdout",
     "output_type": "stream",
     "text": [
      "z statistic =  -0.478419651247\n"
     ]
    }
   ],
   "source": [
    "sample_mean = df1.mean()\n",
    "population_mean = 98.6\n",
    "population_std = df1.std()\n",
    "n = 130\n",
    "\n",
    "z = (sample_mean - population_mean) / (population_std)\n",
    "\n",
    "print 'z statistic = ',z"
   ]
  },
  {
   "cell_type": "markdown",
   "metadata": {},
   "source": [
    "With the z statistic the threshold for accepting the null hypothesis with \n",
    "an alpha of .05 is 1.96 standard deviations from the mean. \n",
    "\n",
    "    The sample mean in this example is .47 standard deviations away with the z statistic. \n",
    "    \n",
    "Therefore, we will accept the null hypothesis that the mean temperature is 98.6 using the z statistic. "
   ]
  },
  {
   "cell_type": "markdown",
   "metadata": {},
   "source": [
    "***4. At what temperature should we consider someone's temperature to be \"abnormal\"?***\n",
    "---"
   ]
  },
  {
   "cell_type": "markdown",
   "metadata": {},
   "source": [
    "Calculating the Confidence Interval and Margin of Error:\n",
    "\n",
    "with Alpha = .05; t-score = 1.979 \n",
    "\n",
    "    In other words: According to the t table with 129 degress freedom, 95% of the probability will be contained within 1.979 standard deviations from the mean. "
   ]
  },
  {
   "cell_type": "code",
   "execution_count": 40,
   "metadata": {
    "collapsed": false
   },
   "outputs": [
    {
     "name": "stdout",
     "output_type": "stream",
     "text": [
      "Margin of Error = 0.127258440922\n",
      "Confidence Interval: [98.12197232830859, 98.37648921015297]\n"
     ]
    }
   ],
   "source": [
    "t = 1.979\n",
    "n = 130\n",
    "sample_mean = df1.mean()\n",
    "sample_std = df1.std()\n",
    "\n",
    "margin_of_error = t * (sample_std / math.sqrt(n))\n",
    "CI = [(sample_mean - margin_of_error), (sample_mean + margin_of_error)]\n",
    "\n",
    "print 'Margin of Error =', margin_of_error\n",
    "print 'Confidence Interval:', CI"
   ]
  },
  {
   "cell_type": "markdown",
   "metadata": {},
   "source": [
    "Through conducting this confidence interval, **we are 95% confident that a person's average temperature lies within the interval of 98.12 and 98.37.**\n",
    "\n",
    "**This means that if someone has a temperature out of this range, we could be reasonably confident that this could be considered abnormal.**\n"
   ]
  },
  {
   "cell_type": "markdown",
   "metadata": {},
   "source": [
    "***5. Is there a significant difference between males and females in normal temperature?***\n",
    "---"
   ]
  },
  {
   "cell_type": "code",
   "execution_count": 85,
   "metadata": {
    "collapsed": false
   },
   "outputs": [
    {
     "name": "stdout",
     "output_type": "stream",
     "text": [
      "Mean Male Temperature = 98.1046153846\n",
      "Mean Female Temperature = 98.3938461538\n"
     ]
    }
   ],
   "source": [
    "f = df[df.gender == 'F'].temperature\n",
    "m = df[df.gender == 'M'].temperature\n",
    "\n",
    "print 'Mean Female Temperature =', f.mean()\n",
    "print 'Mean Male Temperature =', m.mean()"
   ]
  },
  {
   "cell_type": "code",
   "execution_count": 89,
   "metadata": {
    "collapsed": false
   },
   "outputs": [
    {
     "name": "stdout",
     "output_type": "stream",
     "text": [
      "Difference in Means= 0.289230769231\n"
     ]
    }
   ],
   "source": [
    "dim = f.mean() - m.mean()\n",
    "\n",
    "print 'Difference in Means=', dim"
   ]
  },
  {
   "cell_type": "markdown",
   "metadata": {},
   "source": [
    "**Difference of Sample Means Hypothesis Test:**\n",
    "\n",
    "Null Hypothesis (H0) :  Mean Female Temp. - Mean Male Temp. = 0\n",
    "\n",
    "Alternative Hypotheses (HA) : Mean Female Temp. - Mean Male Temp. != 0\n",
    "\n",
    "*alpha = .05*"
   ]
  },
  {
   "cell_type": "markdown",
   "metadata": {},
   "source": [
    "Using the t table, the t-score for an alpha = .05 and 129 degrees of freedom is **1.979**."
   ]
  },
  {
   "cell_type": "code",
   "execution_count": 95,
   "metadata": {
    "collapsed": false
   },
   "outputs": [
    {
     "data": {
      "text/plain": [
       "0.12655395041982642"
      ]
     },
     "execution_count": 95,
     "metadata": {},
     "output_type": "execute_result"
    }
   ],
   "source": [
    "#calculating the standard deviation of the difference of two sample means\n",
    "\n",
    "f_std = f.std()\n",
    "m_std = m.std()\n",
    "\n",
    "n_f = len(f)\n",
    "n_m = len(m)\n",
    "\n",
    "std_dim = math.sqrt((f_std**2/n_f) + (m_std**2/n_m))\n",
    "std_dim "
   ]
  },
  {
   "cell_type": "markdown",
   "metadata": {},
   "source": [
    "The critical region for significance on either end of the distribution is:\n",
    "\n",
    "    The standard deviation (above) times * t-value (1.979)"
   ]
  },
  {
   "cell_type": "code",
   "execution_count": 101,
   "metadata": {
    "collapsed": false
   },
   "outputs": [
    {
     "name": "stdout",
     "output_type": "stream",
     "text": [
      "Above 0.250450267881\n",
      "Or Below -0.250450267881\n",
      "\n",
      "Sample Difference in Means = 0.289230769231\n"
     ]
    }
   ],
   "source": [
    "t_val = 1.979\n",
    "\n",
    "print 'Above', (std_dim * t_val)\n",
    "print 'Or Below', -(std_dim * t_val)\n",
    "print ''\n",
    "print 'Sample Difference in Means =', dim"
   ]
  },
  {
   "cell_type": "markdown",
   "metadata": {},
   "source": [
    "The Sample differnce in means lies above the critical region of significance even while assuming that the null hypothesis is true.\n",
    "\n",
    "**We reject the null hypothesis that there is no difference between male and female temperatures.** There is a statistically significant difference between the average temperature of males and females."
   ]
  },
  {
   "cell_type": "markdown",
   "metadata": {},
   "source": [
    "I used a Hypothesis Test for the difference of means because we want to compare the difference between two sample means to determine if a difference that is statistically significant exists. \n",
    "\n",
    "The answer provided by this test, that there is a difference between males and females average termperature alludes that the 98.6 F statistic may be more nuanced than orgianlly thought.\n",
    "\n",
    "If males and females have statistically significant differences in thier average temperatures, it does not make sense to continue to group the two genders into one statistic. Rather, the statistic should be updated to reflect these new findings."
   ]
  },
  {
   "cell_type": "code",
   "execution_count": null,
   "metadata": {
    "collapsed": true
   },
   "outputs": [],
   "source": []
  }
 ],
 "metadata": {
  "anaconda-cloud": {},
  "kernelspec": {
   "display_name": "Python [Root]",
   "language": "python",
   "name": "Python [Root]"
  },
  "language_info": {
   "codemirror_mode": {
    "name": "ipython",
    "version": 2
   },
   "file_extension": ".py",
   "mimetype": "text/x-python",
   "name": "python",
   "nbconvert_exporter": "python",
   "pygments_lexer": "ipython2",
   "version": "2.7.12"
  }
 },
 "nbformat": 4,
 "nbformat_minor": 0
}
