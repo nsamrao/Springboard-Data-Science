{
 "cells": [
  {
   "cell_type": "code",
   "execution_count": 3,
   "metadata": {
    "collapsed": true
   },
   "outputs": [],
   "source": [
    "import matplotlib\n",
    "import numpy as np\n",
    "import matplotlib.pyplot as plt\n",
    "import seaborn as sns\n",
    "from pandas import *\n",
    "%matplotlib inline "
   ]
  },
  {
   "cell_type": "markdown",
   "metadata": {},
   "source": [
    "1. Reading Airbnb Data\n",
    "====\n",
    "\n",
    "Data from **five major cities** of emerging East Asian economies:\n",
    "\n",
    "    1. Tokyo, Japan\n",
    "    2. Beijing, China\n",
    "    3. Shanghai, China\n",
    "    4. Seoul, Korea\n",
    "    5. Hong Kong"
   ]
  },
  {
   "cell_type": "code",
   "execution_count": 4,
   "metadata": {
    "collapsed": false
   },
   "outputs": [],
   "source": [
    "japan = read_csv('abnb_tokyo.csv')\n",
    "china_b = read_csv('abnb_bejing.csv')\n",
    "china_s = read_csv('abnb_shanghai.csv')\n",
    "korea = read_csv('abnb_seoul.csv')\n",
    "hong_kong = read_csv('abnb_hk.csv')"
   ]
  },
  {
   "cell_type": "markdown",
   "metadata": {},
   "source": [
    "*Dataframe columns included in dataset:*"
   ]
  },
  {
   "cell_type": "code",
   "execution_count": 281,
   "metadata": {
    "collapsed": false
   },
   "outputs": [
    {
     "data": {
      "text/html": [
       "<div>\n",
       "<table border=\"1\" class=\"dataframe\">\n",
       "  <thead>\n",
       "    <tr style=\"text-align: right;\">\n",
       "      <th></th>\n",
       "      <th>Unnamed: 0</th>\n",
       "      <th>room_id</th>\n",
       "      <th>host_id</th>\n",
       "      <th>room_type</th>\n",
       "      <th>city</th>\n",
       "      <th>neighborhood</th>\n",
       "      <th>reviews</th>\n",
       "      <th>overall_satisfaction</th>\n",
       "      <th>accommodates</th>\n",
       "      <th>bedrooms</th>\n",
       "      <th>bathrooms</th>\n",
       "      <th>price</th>\n",
       "      <th>minstay</th>\n",
       "      <th>latitude</th>\n",
       "      <th>longitude</th>\n",
       "      <th>collected</th>\n",
       "    </tr>\n",
       "  </thead>\n",
       "  <tbody>\n",
       "    <tr>\n",
       "      <th>0</th>\n",
       "      <td>0</td>\n",
       "      <td>44054</td>\n",
       "      <td>192875</td>\n",
       "      <td>Entire home/apt</td>\n",
       "      <td>Beijing</td>\n",
       "      <td>Shuangjing</td>\n",
       "      <td>25</td>\n",
       "      <td>4.5</td>\n",
       "      <td>NaN</td>\n",
       "      <td>3.0</td>\n",
       "      <td>2.0</td>\n",
       "      <td>197.0</td>\n",
       "      <td>1.0</td>\n",
       "      <td>39.893197</td>\n",
       "      <td>116.44997</td>\n",
       "      <td>2015-08-29 16:53:39.970742</td>\n",
       "    </tr>\n",
       "  </tbody>\n",
       "</table>\n",
       "</div>"
      ],
      "text/plain": [
       "   Unnamed: 0  room_id  host_id        room_type     city neighborhood  \\\n",
       "0           0    44054   192875  Entire home/apt  Beijing   Shuangjing   \n",
       "\n",
       "   reviews  overall_satisfaction  accommodates  bedrooms  bathrooms  price  \\\n",
       "0       25                   4.5           NaN       3.0        2.0  197.0   \n",
       "\n",
       "   minstay   latitude  longitude                   collected  \n",
       "0      1.0  39.893197  116.44997  2015-08-29 16:53:39.970742  "
      ]
     },
     "execution_count": 281,
     "metadata": {},
     "output_type": "execute_result"
    }
   ],
   "source": [
    "china_b.head(1)"
   ]
  },
  {
   "cell_type": "markdown",
   "metadata": {},
   "source": [
    "*Colors for graphing:*"
   ]
  },
  {
   "cell_type": "code",
   "execution_count": 329,
   "metadata": {
    "collapsed": true
   },
   "outputs": [],
   "source": [
    "blue_color = '#5164C2'\n",
    "red_color = '#F44547'\n",
    "green_color = '#AAD399'\n",
    "purple_color = '#DC65B2'\n",
    "yellow_color = '#FDD559'\n",
    "\n",
    "bl = '#5164C2'\n",
    "rd = '#F44547'\n",
    "gr = '#AAD399'\n",
    "pu = '#DC65B2'\n",
    "ye = '#FDD559'"
   ]
  },
  {
   "cell_type": "markdown",
   "metadata": {
    "collapsed": false
   },
   "source": [
    "----------------\n"
   ]
  },
  {
   "cell_type": "markdown",
   "metadata": {
    "collapsed": true
   },
   "source": [
    "2. Creating dataframes with interesting columns\n",
    "=====\n",
    "\n",
    "Only including relevant columns"
   ]
  },
  {
   "cell_type": "code",
   "execution_count": 39,
   "metadata": {
    "collapsed": false
   },
   "outputs": [],
   "source": [
    "beijing = china_b[['room_id', 'reviews', 'overall_satisfaction', 'accommodates', 'bedrooms', 'bathrooms', 'price', 'minstay']]\n",
    "seoul = korea[['room_id', 'reviews', 'overall_satisfaction', 'accommodates', 'bedrooms', 'bathrooms', 'price', 'minstay']]\n",
    "hong_kong = hong_kong[['room_id', 'neighborhood', 'reviews', 'overall_satisfaction', 'accommodates', 'bedrooms', 'bathrooms', 'price', 'minstay']]\n",
    "tokyo = japan[['room_id', 'reviews', 'overall_satisfaction', 'accommodates', 'bedrooms', 'bathrooms', 'price', 'minstay']]\n",
    "shanghai = china_s[['room_id', 'reviews', 'overall_satisfaction', 'accommodates', 'bedrooms', 'bathrooms', 'price', 'minstay']]"
   ]
  },
  {
   "cell_type": "markdown",
   "metadata": {},
   "source": [
    "--------"
   ]
  },
  {
   "cell_type": "markdown",
   "metadata": {},
   "source": [
    "3. Running Descriptive Statistics\n",
    "======"
   ]
  },
  {
   "cell_type": "markdown",
   "metadata": {},
   "source": [
    "***Descriptive Statistics***"
   ]
  },
  {
   "cell_type": "code",
   "execution_count": 318,
   "metadata": {
    "collapsed": false
   },
   "outputs": [
    {
     "data": {
      "text/html": [
       "<div>\n",
       "<table border=\"1\" class=\"dataframe\">\n",
       "  <thead>\n",
       "    <tr>\n",
       "      <th></th>\n",
       "      <th colspan=\"5\" halign=\"left\">room_id</th>\n",
       "      <th colspan=\"5\" halign=\"left\">overall_satisfaction</th>\n",
       "      <th>...</th>\n",
       "      <th colspan=\"5\" halign=\"left\">bathrooms</th>\n",
       "      <th colspan=\"5\" halign=\"left\">minstay</th>\n",
       "    </tr>\n",
       "    <tr>\n",
       "      <th></th>\n",
       "      <th>count</th>\n",
       "      <th>max</th>\n",
       "      <th>mean</th>\n",
       "      <th>min</th>\n",
       "      <th>std</th>\n",
       "      <th>count</th>\n",
       "      <th>max</th>\n",
       "      <th>mean</th>\n",
       "      <th>min</th>\n",
       "      <th>std</th>\n",
       "      <th>...</th>\n",
       "      <th>count</th>\n",
       "      <th>max</th>\n",
       "      <th>mean</th>\n",
       "      <th>min</th>\n",
       "      <th>std</th>\n",
       "      <th>count</th>\n",
       "      <th>max</th>\n",
       "      <th>mean</th>\n",
       "      <th>min</th>\n",
       "      <th>std</th>\n",
       "    </tr>\n",
       "    <tr>\n",
       "      <th>location</th>\n",
       "      <th></th>\n",
       "      <th></th>\n",
       "      <th></th>\n",
       "      <th></th>\n",
       "      <th></th>\n",
       "      <th></th>\n",
       "      <th></th>\n",
       "      <th></th>\n",
       "      <th></th>\n",
       "      <th></th>\n",
       "      <th></th>\n",
       "      <th></th>\n",
       "      <th></th>\n",
       "      <th></th>\n",
       "      <th></th>\n",
       "      <th></th>\n",
       "      <th></th>\n",
       "      <th></th>\n",
       "      <th></th>\n",
       "      <th></th>\n",
       "      <th></th>\n",
       "    </tr>\n",
       "  </thead>\n",
       "  <tbody>\n",
       "    <tr>\n",
       "      <th>beijing</th>\n",
       "      <td>2158.0</td>\n",
       "      <td>8112096.0</td>\n",
       "      <td>5.706924e+06</td>\n",
       "      <td>44054.0</td>\n",
       "      <td>2.152427e+06</td>\n",
       "      <td>1043.0</td>\n",
       "      <td>5.0</td>\n",
       "      <td>4.613615</td>\n",
       "      <td>1.0</td>\n",
       "      <td>0.595719</td>\n",
       "      <td>...</td>\n",
       "      <td>2130.0</td>\n",
       "      <td>8.0</td>\n",
       "      <td>1.154930</td>\n",
       "      <td>0.0</td>\n",
       "      <td>0.589510</td>\n",
       "      <td>2121.0</td>\n",
       "      <td>25.0</td>\n",
       "      <td>1.820839</td>\n",
       "      <td>1.0</td>\n",
       "      <td>2.442540</td>\n",
       "    </tr>\n",
       "    <tr>\n",
       "      <th>hong_kong</th>\n",
       "      <td>4245.0</td>\n",
       "      <td>9883424.0</td>\n",
       "      <td>5.754796e+06</td>\n",
       "      <td>8402.0</td>\n",
       "      <td>2.778873e+06</td>\n",
       "      <td>2943.0</td>\n",
       "      <td>5.0</td>\n",
       "      <td>4.418281</td>\n",
       "      <td>1.0</td>\n",
       "      <td>0.590716</td>\n",
       "      <td>...</td>\n",
       "      <td>4080.0</td>\n",
       "      <td>8.0</td>\n",
       "      <td>1.194363</td>\n",
       "      <td>0.0</td>\n",
       "      <td>0.747451</td>\n",
       "      <td>4188.0</td>\n",
       "      <td>27.0</td>\n",
       "      <td>2.011223</td>\n",
       "      <td>1.0</td>\n",
       "      <td>2.097485</td>\n",
       "    </tr>\n",
       "    <tr>\n",
       "      <th>seoul</th>\n",
       "      <td>8519.0</td>\n",
       "      <td>13243603.0</td>\n",
       "      <td>7.514626e+06</td>\n",
       "      <td>35108.0</td>\n",
       "      <td>3.677643e+06</td>\n",
       "      <td>3940.0</td>\n",
       "      <td>5.0</td>\n",
       "      <td>4.682741</td>\n",
       "      <td>1.5</td>\n",
       "      <td>0.377364</td>\n",
       "      <td>...</td>\n",
       "      <td>8008.0</td>\n",
       "      <td>8.0</td>\n",
       "      <td>1.183691</td>\n",
       "      <td>0.0</td>\n",
       "      <td>0.749405</td>\n",
       "      <td>8295.0</td>\n",
       "      <td>25.0</td>\n",
       "      <td>1.697649</td>\n",
       "      <td>1.0</td>\n",
       "      <td>1.741066</td>\n",
       "    </tr>\n",
       "    <tr>\n",
       "      <th>shanghai</th>\n",
       "      <td>7348.0</td>\n",
       "      <td>12913772.0</td>\n",
       "      <td>8.856760e+06</td>\n",
       "      <td>54096.0</td>\n",
       "      <td>3.186771e+06</td>\n",
       "      <td>2079.0</td>\n",
       "      <td>5.0</td>\n",
       "      <td>4.708033</td>\n",
       "      <td>2.5</td>\n",
       "      <td>0.361645</td>\n",
       "      <td>...</td>\n",
       "      <td>7050.0</td>\n",
       "      <td>8.0</td>\n",
       "      <td>1.247801</td>\n",
       "      <td>0.0</td>\n",
       "      <td>0.778861</td>\n",
       "      <td>7291.0</td>\n",
       "      <td>90.0</td>\n",
       "      <td>1.529557</td>\n",
       "      <td>1.0</td>\n",
       "      <td>1.946274</td>\n",
       "    </tr>\n",
       "    <tr>\n",
       "      <th>tokyo</th>\n",
       "      <td>6371.0</td>\n",
       "      <td>8062042.0</td>\n",
       "      <td>5.458334e+06</td>\n",
       "      <td>7565.0</td>\n",
       "      <td>1.952667e+06</td>\n",
       "      <td>5099.0</td>\n",
       "      <td>5.0</td>\n",
       "      <td>4.551971</td>\n",
       "      <td>1.0</td>\n",
       "      <td>0.504341</td>\n",
       "      <td>...</td>\n",
       "      <td>6343.0</td>\n",
       "      <td>8.0</td>\n",
       "      <td>1.113432</td>\n",
       "      <td>0.0</td>\n",
       "      <td>0.500809</td>\n",
       "      <td>5885.0</td>\n",
       "      <td>100.0</td>\n",
       "      <td>2.137808</td>\n",
       "      <td>1.0</td>\n",
       "      <td>2.800870</td>\n",
       "    </tr>\n",
       "  </tbody>\n",
       "</table>\n",
       "<p>5 rows × 40 columns</p>\n",
       "</div>"
      ],
      "text/plain": [
       "          room_id                                                   \\\n",
       "            count         max          mean      min           std   \n",
       "location                                                             \n",
       "beijing    2158.0   8112096.0  5.706924e+06  44054.0  2.152427e+06   \n",
       "hong_kong  4245.0   9883424.0  5.754796e+06   8402.0  2.778873e+06   \n",
       "seoul      8519.0  13243603.0  7.514626e+06  35108.0  3.677643e+06   \n",
       "shanghai   7348.0  12913772.0  8.856760e+06  54096.0  3.186771e+06   \n",
       "tokyo      6371.0   8062042.0  5.458334e+06   7565.0  1.952667e+06   \n",
       "\n",
       "          overall_satisfaction                                  ...     \\\n",
       "                         count  max      mean  min       std    ...      \n",
       "location                                                        ...      \n",
       "beijing                 1043.0  5.0  4.613615  1.0  0.595719    ...      \n",
       "hong_kong               2943.0  5.0  4.418281  1.0  0.590716    ...      \n",
       "seoul                   3940.0  5.0  4.682741  1.5  0.377364    ...      \n",
       "shanghai                2079.0  5.0  4.708033  2.5  0.361645    ...      \n",
       "tokyo                   5099.0  5.0  4.551971  1.0  0.504341    ...      \n",
       "\n",
       "          bathrooms                               minstay                   \\\n",
       "              count  max      mean  min       std   count    max      mean   \n",
       "location                                                                     \n",
       "beijing      2130.0  8.0  1.154930  0.0  0.589510  2121.0   25.0  1.820839   \n",
       "hong_kong    4080.0  8.0  1.194363  0.0  0.747451  4188.0   27.0  2.011223   \n",
       "seoul        8008.0  8.0  1.183691  0.0  0.749405  8295.0   25.0  1.697649   \n",
       "shanghai     7050.0  8.0  1.247801  0.0  0.778861  7291.0   90.0  1.529557   \n",
       "tokyo        6343.0  8.0  1.113432  0.0  0.500809  5885.0  100.0  2.137808   \n",
       "\n",
       "                          \n",
       "           min       std  \n",
       "location                  \n",
       "beijing    1.0  2.442540  \n",
       "hong_kong  1.0  2.097485  \n",
       "seoul      1.0  1.741066  \n",
       "shanghai   1.0  1.946274  \n",
       "tokyo      1.0  2.800870  \n",
       "\n",
       "[5 rows x 40 columns]"
      ]
     },
     "execution_count": 318,
     "metadata": {},
     "output_type": "execute_result"
    }
   ],
   "source": [
    "def get_statistics(location):\n",
    "    location_stats = location[['room_id','overall_satisfaction', 'price', 'reviews', 'accommodates', 'bedrooms', 'bathrooms', 'minstay']].describe()\n",
    "    #location_stats['city'] = location\n",
    "    location_stats = concat([location_stats.ix[0:4], location_stats.ix[7:]])\n",
    "    return location_stats\n",
    " \n",
    "statistics = concat([get_statistics(beijing),get_statistics(seoul),get_statistics(hong_kong),get_statistics(tokyo),get_statistics(shanghai)])\n",
    "location = ['beijing', 'beijing', 'beijing', 'beijing', 'beijing', 'seoul', 'seoul', 'seoul', 'seoul', 'seoul', 'hong_kong', 'hong_kong', 'hong_kong', 'hong_kong', 'hong_kong', 'tokyo', 'tokyo', 'tokyo', 'tokyo', 'tokyo', 'shanghai', 'shanghai', 'shanghai', 'shanghai', 'shanghai']\n",
    "statistics['location'] = location\n",
    "statistics = statistics.set_index('location', append = True).unstack(0)\n",
    "statistics"
   ]
  },
  {
   "cell_type": "markdown",
   "metadata": {},
   "source": [
    "***<font color='red'>help: could not get location to work</font>***\n",
    "----"
   ]
  },
  {
   "cell_type": "markdown",
   "metadata": {},
   "source": [
    "4. Data Story Graphs Part I\n",
    "======\n",
    "\n",
    "*Comparing Listing Behavior in Emerging East Asian Countries*\n",
    "-----"
   ]
  },
  {
   "cell_type": "markdown",
   "metadata": {},
   "source": [
    "*** Number of Listings per City***"
   ]
  },
  {
   "cell_type": "code",
   "execution_count": 336,
   "metadata": {
    "collapsed": false
   },
   "outputs": [
    {
     "data": {
      "text/plain": [
       "<matplotlib.text.Text at 0x1294b6e90>"
      ]
     },
     "execution_count": 336,
     "metadata": {},
     "output_type": "execute_result"
    },
    {
     "data": {
      "image/png": "[encoded data removed]",
      "text/plain": [
       "<matplotlib.figure.Figure at 0x1292fb850>"
      ]
     },
     "metadata": {},
     "output_type": "display_data"
    }
   ],
   "source": [
    "DataFrame(statistics['room_id']['count']).plot(kind = 'bar', color = bl)\n",
    "\n",
    "plt.xlabel('City', fontsize=14)\n",
    "plt.ylabel('Count of Listings', fontsize=14)\n",
    "plt.title('Listings per City', fontsize=14, fontweight='bold')"
   ]
  },
  {
   "cell_type": "markdown",
   "metadata": {},
   "source": [
    "***<font color='red'>Help: annotate points</font>***\n",
    "----\n",
    "***<font color='red'>plan to add more analysis based on post annotation analysis</font>***"
   ]
  },
  {
   "cell_type": "code",
   "execution_count": 337,
   "metadata": {
    "collapsed": false,
    "scrolled": true
   },
   "outputs": [
    {
     "data": {
      "text/plain": [
       "<matplotlib.text.Text at 0x129934390>"
      ]
     },
     "execution_count": 337,
     "metadata": {},
     "output_type": "execute_result"
    },
    {
     "data": {
      "image/png": "[encoded data removed]",
      "text/plain": [
       "<matplotlib.figure.Figure at 0x125c9dad0>"
      ]
     },
     "metadata": {},
     "output_type": "display_data"
    }
   ],
   "source": [
    "x = statistics['overall_satisfaction']['mean']\n",
    "y = statistics['price']['mean']\n",
    "\n",
    "plt.scatter(x, y)\n",
    "\n",
    "plt.xlabel('Mean Rating', fontsize=14)\n",
    "plt.ylabel('Mean Price', fontsize=14)\n",
    "plt.title('Average Price and Rating per City', fontsize=14, fontweight='bold')"
   ]
  },
  {
   "cell_type": "code",
   "execution_count": 339,
   "metadata": {
    "collapsed": false
   },
   "outputs": [
    {
     "data": {
      "text/plain": [
       "<matplotlib.text.Text at 0x129dcd610>"
      ]
     },
     "execution_count": 339,
     "metadata": {},
     "output_type": "execute_result"
    },
    {
     "data": {
      "image/png": "[encoded data removed]",
      "text/plain": [
       "<matplotlib.figure.Figure at 0x129bc0050>"
      ]
     },
     "metadata": {},
     "output_type": "display_data"
    }
   ],
   "source": [
    "x = statistics['reviews']['mean']\n",
    "y = statistics['price']['mean']\n",
    "\n",
    "plt.scatter(x, y)\n",
    "plt.xlabel('# of Reiews', fontsize=14)\n",
    "plt.ylabel('Price', fontsize=14)\n",
    "plt.title('Popularity of Listing (# Reviews) and Price per City', fontsize=14, fontweight='bold')"
   ]
  },
  {
   "cell_type": "code",
   "execution_count": 340,
   "metadata": {
    "collapsed": false
   },
   "outputs": [
    {
     "data": {
      "text/plain": [
       "<matplotlib.text.Text at 0x129ed2f50>"
      ]
     },
     "execution_count": 340,
     "metadata": {},
     "output_type": "execute_result"
    },
    {
     "data": {
      "image/png": "[encoded data removed]",
      "text/plain": [
       "<matplotlib.figure.Figure at 0x129dba6d0>"
      ]
     },
     "metadata": {},
     "output_type": "display_data"
    }
   ],
   "source": [
    "x = statistics['overall_satisfaction']['mean']\n",
    "y = statistics['minstay']['mean']\n",
    "\n",
    "plt.scatter(x, y)\n",
    "\n",
    "plt.xlabel('Average Rating', fontsize=14)\n",
    "plt.ylabel('Minimum Stay (days)', fontsize=14)\n",
    "plt.title('Rating and Minimum Stay per City', fontsize=14, fontweight='bold')"
   ]
  },
  {
   "cell_type": "code",
   "execution_count": 341,
   "metadata": {
    "collapsed": false
   },
   "outputs": [
    {
     "data": {
      "text/plain": [
       "<matplotlib.text.Text at 0x128a01890>"
      ]
     },
     "execution_count": 341,
     "metadata": {},
     "output_type": "execute_result"
    },
    {
     "data": {
      "image/png": "[encoded data removed]",
      "text/plain": [
       "<matplotlib.figure.Figure at 0x12a00e150>"
      ]
     },
     "metadata": {},
     "output_type": "display_data"
    }
   ],
   "source": [
    "statistics['price']['max'].plot(kind ='bar')\n",
    "plt.xlabel('City', fontsize=14)\n",
    "plt.ylabel('Price', fontsize=14)\n",
    "plt.title('Max. Price per City', fontsize=14, fontweight='bold')"
   ]
  },
  {
   "cell_type": "code",
   "execution_count": 342,
   "metadata": {
    "collapsed": false
   },
   "outputs": [
    {
     "data": {
      "text/plain": [
       "<matplotlib.text.Text at 0x128903750>"
      ]
     },
     "execution_count": 342,
     "metadata": {},
     "output_type": "execute_result"
    },
    {
     "data": {
      "image/png": "[encoded data removed]",
      "text/plain": [
       "<matplotlib.figure.Figure at 0x12899ba50>"
      ]
     },
     "metadata": {},
     "output_type": "display_data"
    }
   ],
   "source": [
    "statistics['price']['max'].plot(kind ='bar')\n",
    "plt.xlabel('City', fontsize=14)\n",
    "plt.ylabel('Price', fontsize=14)\n",
    "plt.title('Min. Price per City', fontsize=14, fontweight='bold')"
   ]
  },
  {
   "cell_type": "code",
   "execution_count": 343,
   "metadata": {
    "collapsed": false
   },
   "outputs": [
    {
     "data": {
      "text/plain": [
       "<matplotlib.legend.Legend at 0x12a04d950>"
      ]
     },
     "execution_count": 343,
     "metadata": {},
     "output_type": "execute_result"
    },
    {
     "data": {
      "image/png": "[encoded data removed]",
      "text/plain": [
       "<matplotlib.figure.Figure at 0x1287d2650>"
      ]
     },
     "metadata": {},
     "output_type": "display_data"
    }
   ],
   "source": [
    "japan.groupby('overall_satisfaction').size().plot(kind = 'bar', color = blue_color , label = 'Tokyo' )\n",
    "china_b.groupby('overall_satisfaction').size().plot(kind = 'bar', color = red_color, label = 'Beijing')\n",
    "china_s.groupby('overall_satisfaction').size().plot(kind = 'bar', color = purple_color, label = 'Shanghai')\n",
    "korea.groupby('overall_satisfaction').size().plot(kind = 'bar', color = yellow_color, label = 'Korea')\n",
    "hong_kong.groupby('overall_satisfaction').size().plot(kind = 'bar', color = green_color, label = 'Hong Kong')\n",
    "\n",
    "\n",
    "plt.xlabel('Rating', fontsize=14)\n",
    "plt.ylabel('Count', fontsize=14)\n",
    "plt.title('Distribution of Ratings', fontsize=14, fontweight='bold')\n",
    "plt.legend(loc=0)"
   ]
  },
  {
   "cell_type": "markdown",
   "metadata": {},
   "source": [
    "5. Data Story Graphs Part II\n",
    "======\n",
    "\n",
    "*Creating Indexes for Comparing Listing Behavior in Emerging East Asian Countries*\n",
    "-----"
   ]
  },
  {
   "cell_type": "markdown",
   "metadata": {},
   "source": [
    "***Popularity Index***\n",
    "\n",
    "    Function of reviews and rating \n",
    "    \n",
    "    Higher the #, more popular the listing\n",
    "\n",
    "***Value Index***\n",
    "\n",
    "        Function of Popularity Index, Size of Listing (#rooms, bathrooms,# accomodates) over Price\n",
    "        \n",
    "        Higher # means you get more Value per dollar spent on Listing\n",
    "        "
   ]
  },
  {
   "cell_type": "markdown",
   "metadata": {},
   "source": [
    "***<font color='red'>Feedback Here!</font>***\n",
    "----"
   ]
  },
  {
   "cell_type": "code",
   "execution_count": 49,
   "metadata": {
    "collapsed": false
   },
   "outputs": [
    {
     "name": "stderr",
     "output_type": "stream",
     "text": [
      "/Users/nicolesamrao/anaconda/lib/python2.7/site-packages/ipykernel/__main__.py:1: SettingWithCopyWarning: \n",
      "A value is trying to be set on a copy of a slice from a DataFrame.\n",
      "Try using .loc[row_indexer,col_indexer] = value instead\n",
      "\n",
      "See the caveats in the documentation: http://pandas.pydata.org/pandas-docs/stable/indexing.html#indexing-view-versus-copy\n",
      "  if __name__ == '__main__':\n",
      "/Users/nicolesamrao/anaconda/lib/python2.7/site-packages/ipykernel/__main__.py:2: SettingWithCopyWarning: \n",
      "A value is trying to be set on a copy of a slice from a DataFrame.\n",
      "Try using .loc[row_indexer,col_indexer] = value instead\n",
      "\n",
      "See the caveats in the documentation: http://pandas.pydata.org/pandas-docs/stable/indexing.html#indexing-view-versus-copy\n",
      "  from ipykernel import kernelapp as app\n",
      "/Users/nicolesamrao/anaconda/lib/python2.7/site-packages/ipykernel/__main__.py:4: SettingWithCopyWarning: \n",
      "A value is trying to be set on a copy of a slice from a DataFrame.\n",
      "Try using .loc[row_indexer,col_indexer] = value instead\n",
      "\n",
      "See the caveats in the documentation: http://pandas.pydata.org/pandas-docs/stable/indexing.html#indexing-view-versus-copy\n",
      "/Users/nicolesamrao/anaconda/lib/python2.7/site-packages/ipykernel/__main__.py:5: SettingWithCopyWarning: \n",
      "A value is trying to be set on a copy of a slice from a DataFrame.\n",
      "Try using .loc[row_indexer,col_indexer] = value instead\n",
      "\n",
      "See the caveats in the documentation: http://pandas.pydata.org/pandas-docs/stable/indexing.html#indexing-view-versus-copy\n",
      "/Users/nicolesamrao/anaconda/lib/python2.7/site-packages/ipykernel/__main__.py:10: SettingWithCopyWarning: \n",
      "A value is trying to be set on a copy of a slice from a DataFrame.\n",
      "Try using .loc[row_indexer,col_indexer] = value instead\n",
      "\n",
      "See the caveats in the documentation: http://pandas.pydata.org/pandas-docs/stable/indexing.html#indexing-view-versus-copy\n",
      "/Users/nicolesamrao/anaconda/lib/python2.7/site-packages/ipykernel/__main__.py:11: SettingWithCopyWarning: \n",
      "A value is trying to be set on a copy of a slice from a DataFrame.\n",
      "Try using .loc[row_indexer,col_indexer] = value instead\n",
      "\n",
      "See the caveats in the documentation: http://pandas.pydata.org/pandas-docs/stable/indexing.html#indexing-view-versus-copy\n",
      "/Users/nicolesamrao/anaconda/lib/python2.7/site-packages/ipykernel/__main__.py:13: SettingWithCopyWarning: \n",
      "A value is trying to be set on a copy of a slice from a DataFrame.\n",
      "Try using .loc[row_indexer,col_indexer] = value instead\n",
      "\n",
      "See the caveats in the documentation: http://pandas.pydata.org/pandas-docs/stable/indexing.html#indexing-view-versus-copy\n",
      "/Users/nicolesamrao/anaconda/lib/python2.7/site-packages/ipykernel/__main__.py:14: SettingWithCopyWarning: \n",
      "A value is trying to be set on a copy of a slice from a DataFrame.\n",
      "Try using .loc[row_indexer,col_indexer] = value instead\n",
      "\n",
      "See the caveats in the documentation: http://pandas.pydata.org/pandas-docs/stable/indexing.html#indexing-view-versus-copy\n"
     ]
    }
   ],
   "source": [
    "beijing['popularity_index'] = beijing['reviews'] * beijing['overall_satisfaction'] / 10\n",
    "beijing['value_index'] = (beijing['popularity_index'] * (beijing['bedrooms'] + (.5 * beijing['bathrooms'])) * beijing['accommodates']) / beijing['price']\n",
    "\n",
    "seoul['popularity_index'] = seoul['reviews'] * seoul['overall_satisfaction'] / 10\n",
    "seoul['value_index'] = (seoul['popularity_index'] * (seoul['bedrooms'] + (.5 * seoul['bathrooms'])) * seoul['accommodates']) / seoul['price']\n",
    "\n",
    "hong_kong['popularity_index'] = hong_kong['reviews'] * hong_kong['overall_satisfaction'] / 10\n",
    "hong_kong['value_index'] = (hong_kong['popularity_index'] * (hong_kong['bedrooms'] + (.5 * hong_kong['bathrooms'])) * hong_kong['accommodates']) / hong_kong['price']\n",
    "\n",
    "tokyo['popularity_index'] = tokyo['reviews'] * tokyo['overall_satisfaction'] / 10\n",
    "tokyo['value_index'] = (tokyo['popularity_index'] * (tokyo['bedrooms'] + (.5 * tokyo['bathrooms'])) * tokyo['accommodates']) / tokyo['price']\n",
    "\n",
    "shanghai['popularity_index'] = shanghai['reviews'] * shanghai['overall_satisfaction'] / 10\n",
    "shanghai['value_index'] = (shanghai['popularity_index'] * (shanghai['bedrooms'] + (.5 * shanghai['bathrooms'])) * shanghai['accommodates']) / shanghai['price']"
   ]
  },
  {
   "cell_type": "code",
   "execution_count": 346,
   "metadata": {
    "collapsed": false
   },
   "outputs": [
    {
     "data": {
      "text/plain": [
       "<matplotlib.legend.Legend at 0x128398390>"
      ]
     },
     "execution_count": 346,
     "metadata": {},
     "output_type": "execute_result"
    },
    {
     "data": {
      "text/plain": [
       "<matplotlib.figure.Figure at 0x12a281a10>"
      ]
     },
     "metadata": {},
     "output_type": "display_data"
    },
    {
     "data": {
      "image/png": "[encoded data removed]",
      "text/plain": [
       "<matplotlib.figure.Figure at 0x129f5aa90>"
      ]
     },
     "metadata": {},
     "output_type": "display_data"
    }
   ],
   "source": [
    "fig = plt.figure(figsize = (10,10), dpi = 100)\n",
    "\n",
    "dict_popularity_index = {\n",
    "    'Beijing': beijing['popularity_index'].dropna(),\n",
    "    'Seoul' : seoul['popularity_index'].dropna(),\n",
    "    'Hong_Kong' : hong_kong['popularity_index'].dropna(),\n",
    "    'Tokyo' : tokyo['popularity_index'].dropna(),\n",
    "    'Shanghai' : shanghai['popularity_index'].dropna()\n",
    "                 }\n",
    "df = DataFrame(dict_popularity_index).dropna()\n",
    "\n",
    "df.plot.hist(bins = 10, xlim = 12, ylim = (0,100))\n",
    "\n",
    "\n",
    "plt.title('Popularity Index Distribution', fontsize=14, fontweight='bold')\n",
    "plt.legend(loc=0)\n"
   ]
  },
  {
   "cell_type": "markdown",
   "metadata": {},
   "source": [
    "Tokyo has vastly more listings, so it overpowers the graph here\n",
    "\n",
    "Graph of Popularity Index Distribution without Tokyo:"
   ]
  },
  {
   "cell_type": "code",
   "execution_count": 347,
   "metadata": {
    "collapsed": false
   },
   "outputs": [
    {
     "data": {
      "text/plain": [
       "<matplotlib.legend.Legend at 0x12a276390>"
      ]
     },
     "execution_count": 347,
     "metadata": {},
     "output_type": "execute_result"
    },
    {
     "data": {
      "text/plain": [
       "<matplotlib.figure.Figure at 0x12a9bcf50>"
      ]
     },
     "metadata": {},
     "output_type": "display_data"
    },
    {
     "data": {
      "image/png": "[encoded data removed]",
      "text/plain": [
       "<matplotlib.figure.Figure at 0x12a276210>"
      ]
     },
     "metadata": {},
     "output_type": "display_data"
    }
   ],
   "source": [
    "fig = plt.figure(figsize = (10,10), dpi = 100)\n",
    "\n",
    "dict_popularity_index = {\n",
    "    'Beijing': beijing['popularity_index'].dropna(),\n",
    "    'Seoul' : seoul['popularity_index'].dropna(),\n",
    "    'Hong_Kong' : hong_kong['popularity_index'].dropna(),\n",
    "    #'Tokyo' : tokyo['popularity_index'].dropna(),\n",
    "    'Shanghai' : shanghai['popularity_index'].dropna()\n",
    "                 }\n",
    "df = DataFrame(dict_popularity_index).dropna()\n",
    "\n",
    "df.plot.hist(bins = 10, xlim = 10, ylim = (0,70))\n",
    "\n",
    "plt.title('Popularity Index Distribution (w/o Tokyo)', fontsize=14, fontweight='bold')\n",
    "plt.legend(loc=0)"
   ]
  },
  {
   "cell_type": "code",
   "execution_count": null,
   "metadata": {
    "collapsed": false
   },
   "outputs": [],
   "source": []
  },
  {
   "cell_type": "code",
   "execution_count": null,
   "metadata": {
    "collapsed": true
   },
   "outputs": [],
   "source": []
  }
 ],
 "metadata": {
  "anaconda-cloud": {},
  "kernelspec": {
   "display_name": "Python [Root]",
   "language": "python",
   "name": "Python [Root]"
  },
  "language_info": {
   "codemirror_mode": {
    "name": "ipython",
    "version": 2
   },
   "file_extension": ".py",
   "mimetype": "text/x-python",
   "name": "python",
   "nbconvert_exporter": "python",
   "pygments_lexer": "ipython2",
   "version": "2.7.12"
  }
 },
 "nbformat": 4,
 "nbformat_minor": 0
}
